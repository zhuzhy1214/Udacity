{
 "cells": [
  {
   "cell_type": "markdown",
   "metadata": {},
   "source": [
    "# A peek of developers' career from StackOverflow annual survey 2019"
   ]
  },
  {
   "cell_type": "markdown",
   "metadata": {},
   "source": [
    "\n",
    "## List of Questions and Findings:\n",
    "\n",
    "1. [Which programming language to learn next?](#Q1)<br>\n",
    "2. [Which programming language is in high demand? what language might get you higher salary?](#Q2)<br>\n",
    "3. [What is age factors in developer's career?](#Q3)<br>\n",
    "4. [How does other developers recharge themselves in skills? ](#Q4)<br>\n",
    "5. [What is a single trick that could boost your salary for future job seach effort?](#Q5)<br>\n",
    "6. [What is a potential good option for IDE?](#Q6)<br>\n",
    "7. [Which operating system is good fit for me?](#Q7)<br>\n",
    "8. [How do you feel about your boss affect your salary or not?](#Q8)<br>\n",
    "9. [Any gender gap on developer's career?](#Q9)<br>"
   ]
  },
  {
   "cell_type": "markdown",
   "metadata": {},
   "source": [
    "## Import Library and Data"
   ]
  },
  {
   "cell_type": "code",
   "execution_count": 7,
   "metadata": {
    "collapsed": true
   },
   "outputs": [],
   "source": [
    "import numpy as np\n",
    "import pandas as pd\n",
    "\n",
    "import matplotlib\n",
    "import matplotlib.pyplot as plt\n",
    "%matplotlib inline\n"
   ]
  },
  {
   "cell_type": "code",
   "execution_count": 210,
   "metadata": {},
   "outputs": [
    {
     "name": "stdout",
     "output_type": "stream",
     "text": [
      "3.6.3\n"
     ]
    }
   ],
   "source": [
    "#print python version\n",
    "from platform import python_version\n",
    "print(python_version())"
   ]
  },
  {
   "cell_type": "code",
   "execution_count": 10,
   "metadata": {},
   "outputs": [
    {
     "name": "stdout",
     "output_type": "stream",
     "text": [
      " numpy version: 1.14.2 \n",
      " pandas version: 0.25.0 \n",
      " matplotlib version: 2.1.0\n"
     ]
    }
   ],
   "source": [
    "#print the version of each library\n",
    "print (\" numpy version:\", np.__version__ ,\n",
    "       \"\\n pandas version:\", pd.__version__,\n",
    "       \"\\n matplotlib version:\", matplotlib.__version__)"
   ]
  },
  {
   "cell_type": "markdown",
   "metadata": {},
   "source": [
    "The data used in this project is available at:<br>\n",
    "https://drive.google.com/open?id=1QOmVDpd8hcVYqqUXDXf68UMDWQZP0wQV"
   ]
  },
  {
   "cell_type": "code",
   "execution_count": 24,
   "metadata": {},
   "outputs": [
    {
     "data": {
      "text/html": [
       "<div>\n",
       "<style scoped>\n",
       "    .dataframe tbody tr th:only-of-type {\n",
       "        vertical-align: middle;\n",
       "    }\n",
       "\n",
       "    .dataframe tbody tr th {\n",
       "        vertical-align: top;\n",
       "    }\n",
       "\n",
       "    .dataframe thead th {\n",
       "        text-align: right;\n",
       "    }\n",
       "</style>\n",
       "<table border=\"1\" class=\"dataframe\">\n",
       "  <thead>\n",
       "    <tr style=\"text-align: right;\">\n",
       "      <th></th>\n",
       "      <th>Column</th>\n",
       "      <th>QuestionText</th>\n",
       "    </tr>\n",
       "  </thead>\n",
       "  <tbody>\n",
       "    <tr>\n",
       "      <th>0</th>\n",
       "      <td>Respondent</td>\n",
       "      <td>Randomized respondent ID number (not in order ...</td>\n",
       "    </tr>\n",
       "    <tr>\n",
       "      <th>1</th>\n",
       "      <td>MainBranch</td>\n",
       "      <td>Which of the following options best describes ...</td>\n",
       "    </tr>\n",
       "    <tr>\n",
       "      <th>2</th>\n",
       "      <td>Hobbyist</td>\n",
       "      <td>Do you code as a hobby?</td>\n",
       "    </tr>\n",
       "    <tr>\n",
       "      <th>3</th>\n",
       "      <td>OpenSourcer</td>\n",
       "      <td>How often do you contribute to open source?</td>\n",
       "    </tr>\n",
       "    <tr>\n",
       "      <th>4</th>\n",
       "      <td>OpenSource</td>\n",
       "      <td>How do you feel about the quality of open sour...</td>\n",
       "    </tr>\n",
       "  </tbody>\n",
       "</table>\n",
       "</div>"
      ],
      "text/plain": [
       "        Column                                       QuestionText\n",
       "0   Respondent  Randomized respondent ID number (not in order ...\n",
       "1   MainBranch  Which of the following options best describes ...\n",
       "2     Hobbyist                            Do you code as a hobby?\n",
       "3  OpenSourcer        How often do you contribute to open source?\n",
       "4   OpenSource  How do you feel about the quality of open sour..."
      ]
     },
     "execution_count": 24,
     "metadata": {},
     "output_type": "execute_result"
    }
   ],
   "source": [
    "df_schema = pd.read_csv('./data/survey_results_schema.csv')\n",
    "df_schema.head()"
   ]
  },
  {
   "cell_type": "code",
   "execution_count": 68,
   "metadata": {
    "collapsed": true
   },
   "outputs": [
    {
     "data": {
      "text/html": [
       "<div>\n",
       "<style scoped>\n",
       "    .dataframe tbody tr th:only-of-type {\n",
       "        vertical-align: middle;\n",
       "    }\n",
       "\n",
       "    .dataframe tbody tr th {\n",
       "        vertical-align: top;\n",
       "    }\n",
       "\n",
       "    .dataframe thead th {\n",
       "        text-align: right;\n",
       "    }\n",
       "</style>\n",
       "<table border=\"1\" class=\"dataframe\">\n",
       "  <thead>\n",
       "    <tr style=\"text-align: right;\">\n",
       "      <th></th>\n",
       "      <th>Respondent</th>\n",
       "      <th>MainBranch</th>\n",
       "      <th>Hobbyist</th>\n",
       "      <th>OpenSourcer</th>\n",
       "      <th>OpenSource</th>\n",
       "      <th>Employment</th>\n",
       "      <th>Country</th>\n",
       "      <th>Student</th>\n",
       "      <th>EdLevel</th>\n",
       "      <th>UndergradMajor</th>\n",
       "      <th>...</th>\n",
       "      <th>WelcomeChange</th>\n",
       "      <th>SONewContent</th>\n",
       "      <th>Age</th>\n",
       "      <th>Gender</th>\n",
       "      <th>Trans</th>\n",
       "      <th>Sexuality</th>\n",
       "      <th>Ethnicity</th>\n",
       "      <th>Dependents</th>\n",
       "      <th>SurveyLength</th>\n",
       "      <th>SurveyEase</th>\n",
       "    </tr>\n",
       "  </thead>\n",
       "  <tbody>\n",
       "    <tr>\n",
       "      <th>0</th>\n",
       "      <td>1</td>\n",
       "      <td>I am a student who is learning to code</td>\n",
       "      <td>Yes</td>\n",
       "      <td>Never</td>\n",
       "      <td>The quality of OSS and closed source software ...</td>\n",
       "      <td>Not employed, and not looking for work</td>\n",
       "      <td>United Kingdom</td>\n",
       "      <td>No</td>\n",
       "      <td>Primary/elementary school</td>\n",
       "      <td>NaN</td>\n",
       "      <td>...</td>\n",
       "      <td>Just as welcome now as I felt last year</td>\n",
       "      <td>Tech articles written by other developers;Indu...</td>\n",
       "      <td>14.0</td>\n",
       "      <td>Man</td>\n",
       "      <td>No</td>\n",
       "      <td>Straight / Heterosexual</td>\n",
       "      <td>NaN</td>\n",
       "      <td>No</td>\n",
       "      <td>Appropriate in length</td>\n",
       "      <td>Neither easy nor difficult</td>\n",
       "    </tr>\n",
       "    <tr>\n",
       "      <th>1</th>\n",
       "      <td>2</td>\n",
       "      <td>I am a student who is learning to code</td>\n",
       "      <td>No</td>\n",
       "      <td>Less than once per year</td>\n",
       "      <td>The quality of OSS and closed source software ...</td>\n",
       "      <td>Not employed, but looking for work</td>\n",
       "      <td>Bosnia and Herzegovina</td>\n",
       "      <td>Yes, full-time</td>\n",
       "      <td>Secondary school (e.g. American high school, G...</td>\n",
       "      <td>NaN</td>\n",
       "      <td>...</td>\n",
       "      <td>Just as welcome now as I felt last year</td>\n",
       "      <td>Tech articles written by other developers;Indu...</td>\n",
       "      <td>19.0</td>\n",
       "      <td>Man</td>\n",
       "      <td>No</td>\n",
       "      <td>Straight / Heterosexual</td>\n",
       "      <td>NaN</td>\n",
       "      <td>No</td>\n",
       "      <td>Appropriate in length</td>\n",
       "      <td>Neither easy nor difficult</td>\n",
       "    </tr>\n",
       "    <tr>\n",
       "      <th>2</th>\n",
       "      <td>3</td>\n",
       "      <td>I am not primarily a developer, but I write co...</td>\n",
       "      <td>Yes</td>\n",
       "      <td>Never</td>\n",
       "      <td>The quality of OSS and closed source software ...</td>\n",
       "      <td>Employed full-time</td>\n",
       "      <td>Thailand</td>\n",
       "      <td>No</td>\n",
       "      <td>Bachelor’s degree (BA, BS, B.Eng., etc.)</td>\n",
       "      <td>Web development or web design</td>\n",
       "      <td>...</td>\n",
       "      <td>Just as welcome now as I felt last year</td>\n",
       "      <td>Tech meetups or events in your area;Courses on...</td>\n",
       "      <td>28.0</td>\n",
       "      <td>Man</td>\n",
       "      <td>No</td>\n",
       "      <td>Straight / Heterosexual</td>\n",
       "      <td>NaN</td>\n",
       "      <td>Yes</td>\n",
       "      <td>Appropriate in length</td>\n",
       "      <td>Neither easy nor difficult</td>\n",
       "    </tr>\n",
       "    <tr>\n",
       "      <th>3</th>\n",
       "      <td>4</td>\n",
       "      <td>I am a developer by profession</td>\n",
       "      <td>No</td>\n",
       "      <td>Never</td>\n",
       "      <td>The quality of OSS and closed source software ...</td>\n",
       "      <td>Employed full-time</td>\n",
       "      <td>United States</td>\n",
       "      <td>No</td>\n",
       "      <td>Bachelor’s degree (BA, BS, B.Eng., etc.)</td>\n",
       "      <td>Computer science, computer engineering, or sof...</td>\n",
       "      <td>...</td>\n",
       "      <td>Just as welcome now as I felt last year</td>\n",
       "      <td>Tech articles written by other developers;Indu...</td>\n",
       "      <td>22.0</td>\n",
       "      <td>Man</td>\n",
       "      <td>No</td>\n",
       "      <td>Straight / Heterosexual</td>\n",
       "      <td>White or of European descent</td>\n",
       "      <td>No</td>\n",
       "      <td>Appropriate in length</td>\n",
       "      <td>Easy</td>\n",
       "    </tr>\n",
       "    <tr>\n",
       "      <th>4</th>\n",
       "      <td>5</td>\n",
       "      <td>I am a developer by profession</td>\n",
       "      <td>Yes</td>\n",
       "      <td>Once a month or more often</td>\n",
       "      <td>OSS is, on average, of HIGHER quality than pro...</td>\n",
       "      <td>Employed full-time</td>\n",
       "      <td>Ukraine</td>\n",
       "      <td>No</td>\n",
       "      <td>Bachelor’s degree (BA, BS, B.Eng., etc.)</td>\n",
       "      <td>Computer science, computer engineering, or sof...</td>\n",
       "      <td>...</td>\n",
       "      <td>Just as welcome now as I felt last year</td>\n",
       "      <td>Tech meetups or events in your area;Courses on...</td>\n",
       "      <td>30.0</td>\n",
       "      <td>Man</td>\n",
       "      <td>No</td>\n",
       "      <td>Straight / Heterosexual</td>\n",
       "      <td>White or of European descent;Multiracial</td>\n",
       "      <td>No</td>\n",
       "      <td>Appropriate in length</td>\n",
       "      <td>Easy</td>\n",
       "    </tr>\n",
       "  </tbody>\n",
       "</table>\n",
       "<p>5 rows × 85 columns</p>\n",
       "</div>"
      ],
      "text/plain": [
       "   Respondent                                         MainBranch Hobbyist  \\\n",
       "0           1             I am a student who is learning to code      Yes   \n",
       "1           2             I am a student who is learning to code       No   \n",
       "2           3  I am not primarily a developer, but I write co...      Yes   \n",
       "3           4                     I am a developer by profession       No   \n",
       "4           5                     I am a developer by profession      Yes   \n",
       "\n",
       "                  OpenSourcer  \\\n",
       "0                       Never   \n",
       "1     Less than once per year   \n",
       "2                       Never   \n",
       "3                       Never   \n",
       "4  Once a month or more often   \n",
       "\n",
       "                                          OpenSource  \\\n",
       "0  The quality of OSS and closed source software ...   \n",
       "1  The quality of OSS and closed source software ...   \n",
       "2  The quality of OSS and closed source software ...   \n",
       "3  The quality of OSS and closed source software ...   \n",
       "4  OSS is, on average, of HIGHER quality than pro...   \n",
       "\n",
       "                               Employment                 Country  \\\n",
       "0  Not employed, and not looking for work          United Kingdom   \n",
       "1      Not employed, but looking for work  Bosnia and Herzegovina   \n",
       "2                      Employed full-time                Thailand   \n",
       "3                      Employed full-time           United States   \n",
       "4                      Employed full-time                 Ukraine   \n",
       "\n",
       "          Student                                            EdLevel  \\\n",
       "0              No                          Primary/elementary school   \n",
       "1  Yes, full-time  Secondary school (e.g. American high school, G...   \n",
       "2              No           Bachelor’s degree (BA, BS, B.Eng., etc.)   \n",
       "3              No           Bachelor’s degree (BA, BS, B.Eng., etc.)   \n",
       "4              No           Bachelor’s degree (BA, BS, B.Eng., etc.)   \n",
       "\n",
       "                                      UndergradMajor  ...  \\\n",
       "0                                                NaN  ...   \n",
       "1                                                NaN  ...   \n",
       "2                      Web development or web design  ...   \n",
       "3  Computer science, computer engineering, or sof...  ...   \n",
       "4  Computer science, computer engineering, or sof...  ...   \n",
       "\n",
       "                             WelcomeChange  \\\n",
       "0  Just as welcome now as I felt last year   \n",
       "1  Just as welcome now as I felt last year   \n",
       "2  Just as welcome now as I felt last year   \n",
       "3  Just as welcome now as I felt last year   \n",
       "4  Just as welcome now as I felt last year   \n",
       "\n",
       "                                        SONewContent   Age Gender Trans  \\\n",
       "0  Tech articles written by other developers;Indu...  14.0    Man    No   \n",
       "1  Tech articles written by other developers;Indu...  19.0    Man    No   \n",
       "2  Tech meetups or events in your area;Courses on...  28.0    Man    No   \n",
       "3  Tech articles written by other developers;Indu...  22.0    Man    No   \n",
       "4  Tech meetups or events in your area;Courses on...  30.0    Man    No   \n",
       "\n",
       "                 Sexuality                                 Ethnicity  \\\n",
       "0  Straight / Heterosexual                                       NaN   \n",
       "1  Straight / Heterosexual                                       NaN   \n",
       "2  Straight / Heterosexual                                       NaN   \n",
       "3  Straight / Heterosexual              White or of European descent   \n",
       "4  Straight / Heterosexual  White or of European descent;Multiracial   \n",
       "\n",
       "  Dependents           SurveyLength                  SurveyEase  \n",
       "0         No  Appropriate in length  Neither easy nor difficult  \n",
       "1         No  Appropriate in length  Neither easy nor difficult  \n",
       "2        Yes  Appropriate in length  Neither easy nor difficult  \n",
       "3         No  Appropriate in length                        Easy  \n",
       "4         No  Appropriate in length                        Easy  \n",
       "\n",
       "[5 rows x 85 columns]"
      ]
     },
     "execution_count": 68,
     "metadata": {},
     "output_type": "execute_result"
    }
   ],
   "source": [
    "df = pd.read_csv('./data/survey_results_public.csv')\n",
    "df.head()"
   ]
  },
  {
   "cell_type": "markdown",
   "metadata": {},
   "source": [
    "### <a class=\"anchor\" id=\"Data-exploration\">Data initial exploration before Data wrangling</a>\n"
   ]
  },
  {
   "cell_type": "code",
   "execution_count": 221,
   "metadata": {},
   "outputs": [
    {
     "data": {
      "text/plain": [
       "(88883, 87)"
      ]
     },
     "execution_count": 221,
     "metadata": {},
     "output_type": "execute_result"
    }
   ],
   "source": [
    "#There are about 85 questions in the questionair. We will need to focus on some of the questions. \n",
    "#About 89 thousand developers responded with survey. \n",
    "df.shape"
   ]
  },
  {
   "cell_type": "code",
   "execution_count": 222,
   "metadata": {},
   "outputs": [
    {
     "data": {
      "text/plain": [
       "Index(['Respondent', 'MainBranch', 'Hobbyist', 'OpenSourcer', 'OpenSource',\n",
       "       'Employment', 'Country', 'Student', 'EdLevel', 'UndergradMajor',\n",
       "       'EduOther', 'OrgSize', 'DevType', 'YearsCode', 'Age1stCode',\n",
       "       'YearsCodePro', 'CareerSat', 'JobSat', 'MgrIdiot', 'MgrMoney',\n",
       "       'MgrWant', 'JobSeek', 'LastHireDate', 'LastInt', 'FizzBuzz',\n",
       "       'JobFactors', 'ResumeUpdate', 'CurrencySymbol', 'CurrencyDesc',\n",
       "       'CompTotal', 'CompFreq', 'ConvertedComp', 'WorkWeekHrs', 'WorkPlan',\n",
       "       'WorkChallenge', 'WorkRemote', 'WorkLoc', 'ImpSyn', 'CodeRev',\n",
       "       'CodeRevHrs', 'UnitTests', 'PurchaseHow', 'PurchaseWhat',\n",
       "       'LanguageWorkedWith', 'LanguageDesireNextYear', 'DatabaseWorkedWith',\n",
       "       'DatabaseDesireNextYear', 'PlatformWorkedWith',\n",
       "       'PlatformDesireNextYear', 'WebFrameWorkedWith',\n",
       "       'WebFrameDesireNextYear', 'MiscTechWorkedWith',\n",
       "       'MiscTechDesireNextYear', 'DevEnviron', 'OpSys', 'Containers',\n",
       "       'BlockchainOrg', 'BlockchainIs', 'BetterLife', 'ITperson', 'OffOn',\n",
       "       'SocialMedia', 'Extraversion', 'ScreenName', 'SOVisit1st',\n",
       "       'SOVisitFreq', 'SOVisitTo', 'SOFindAnswer', 'SOTimeSaved',\n",
       "       'SOHowMuchTime', 'SOAccount', 'SOPartFreq', 'SOJobs', 'EntTeams',\n",
       "       'SOComm', 'WelcomeChange', 'SONewContent', 'Age', 'Gender', 'Trans',\n",
       "       'Sexuality', 'Ethnicity', 'Dependents', 'SurveyLength', 'SurveyEase',\n",
       "       'Age_bin', 'Age1stCode_bin'],\n",
       "      dtype='object')"
      ]
     },
     "execution_count": 222,
     "metadata": {},
     "output_type": "execute_result"
    }
   ],
   "source": [
    "df.columns"
   ]
  },
  {
   "cell_type": "code",
   "execution_count": 223,
   "metadata": {
    "scrolled": true
   },
   "outputs": [
    {
     "data": {
      "text/html": [
       "<div>\n",
       "<style scoped>\n",
       "    .dataframe tbody tr th:only-of-type {\n",
       "        vertical-align: middle;\n",
       "    }\n",
       "\n",
       "    .dataframe tbody tr th {\n",
       "        vertical-align: top;\n",
       "    }\n",
       "\n",
       "    .dataframe thead th {\n",
       "        text-align: right;\n",
       "    }\n",
       "</style>\n",
       "<table border=\"1\" class=\"dataframe\">\n",
       "  <thead>\n",
       "    <tr style=\"text-align: right;\">\n",
       "      <th></th>\n",
       "      <th>Column</th>\n",
       "      <th>QuestionText</th>\n",
       "    </tr>\n",
       "  </thead>\n",
       "  <tbody>\n",
       "    <tr>\n",
       "      <th>0</th>\n",
       "      <td>Respondent</td>\n",
       "      <td>Randomized respondent ID number (not in order ...</td>\n",
       "    </tr>\n",
       "    <tr>\n",
       "      <th>1</th>\n",
       "      <td>MainBranch</td>\n",
       "      <td>Which of the following options best describes ...</td>\n",
       "    </tr>\n",
       "    <tr>\n",
       "      <th>2</th>\n",
       "      <td>Hobbyist</td>\n",
       "      <td>Do you code as a hobby?</td>\n",
       "    </tr>\n",
       "    <tr>\n",
       "      <th>3</th>\n",
       "      <td>OpenSourcer</td>\n",
       "      <td>How often do you contribute to open source?</td>\n",
       "    </tr>\n",
       "    <tr>\n",
       "      <th>4</th>\n",
       "      <td>OpenSource</td>\n",
       "      <td>How do you feel about the quality of open sour...</td>\n",
       "    </tr>\n",
       "    <tr>\n",
       "      <th>5</th>\n",
       "      <td>Employment</td>\n",
       "      <td>Which of the following best describes your cur...</td>\n",
       "    </tr>\n",
       "    <tr>\n",
       "      <th>6</th>\n",
       "      <td>Country</td>\n",
       "      <td>In which country do you currently reside?</td>\n",
       "    </tr>\n",
       "    <tr>\n",
       "      <th>7</th>\n",
       "      <td>Student</td>\n",
       "      <td>Are you currently enrolled in a formal, degree...</td>\n",
       "    </tr>\n",
       "    <tr>\n",
       "      <th>8</th>\n",
       "      <td>EdLevel</td>\n",
       "      <td>Which of the following best describes the high...</td>\n",
       "    </tr>\n",
       "    <tr>\n",
       "      <th>9</th>\n",
       "      <td>UndergradMajor</td>\n",
       "      <td>What was your main or most important field of ...</td>\n",
       "    </tr>\n",
       "    <tr>\n",
       "      <th>10</th>\n",
       "      <td>EduOther</td>\n",
       "      <td>Which of the following types of non-degree edu...</td>\n",
       "    </tr>\n",
       "    <tr>\n",
       "      <th>11</th>\n",
       "      <td>OrgSize</td>\n",
       "      <td>Approximately how many people are employed by ...</td>\n",
       "    </tr>\n",
       "    <tr>\n",
       "      <th>12</th>\n",
       "      <td>DevType</td>\n",
       "      <td>Which of the following describe you? Please se...</td>\n",
       "    </tr>\n",
       "    <tr>\n",
       "      <th>13</th>\n",
       "      <td>YearsCode</td>\n",
       "      <td>Including any education, how many years have y...</td>\n",
       "    </tr>\n",
       "    <tr>\n",
       "      <th>14</th>\n",
       "      <td>Age1stCode</td>\n",
       "      <td>At what age did you write your first line of c...</td>\n",
       "    </tr>\n",
       "    <tr>\n",
       "      <th>15</th>\n",
       "      <td>YearsCodePro</td>\n",
       "      <td>How many years have you coded professionally (...</td>\n",
       "    </tr>\n",
       "    <tr>\n",
       "      <th>16</th>\n",
       "      <td>CareerSat</td>\n",
       "      <td>Overall, how satisfied are you with your caree...</td>\n",
       "    </tr>\n",
       "    <tr>\n",
       "      <th>17</th>\n",
       "      <td>JobSat</td>\n",
       "      <td>How satisfied are you with your current job? (...</td>\n",
       "    </tr>\n",
       "    <tr>\n",
       "      <th>18</th>\n",
       "      <td>MgrIdiot</td>\n",
       "      <td>How confident are you that your manager knows ...</td>\n",
       "    </tr>\n",
       "    <tr>\n",
       "      <th>19</th>\n",
       "      <td>MgrMoney</td>\n",
       "      <td>Do you believe that you need to be a manager t...</td>\n",
       "    </tr>\n",
       "    <tr>\n",
       "      <th>20</th>\n",
       "      <td>MgrWant</td>\n",
       "      <td>Do you want to become a manager yourself in th...</td>\n",
       "    </tr>\n",
       "    <tr>\n",
       "      <th>21</th>\n",
       "      <td>JobSeek</td>\n",
       "      <td>Which of the following best describes your cur...</td>\n",
       "    </tr>\n",
       "    <tr>\n",
       "      <th>22</th>\n",
       "      <td>LastHireDate</td>\n",
       "      <td>When was the last time that you took a job wit...</td>\n",
       "    </tr>\n",
       "    <tr>\n",
       "      <th>23</th>\n",
       "      <td>LastInt</td>\n",
       "      <td>In your most recent successful job interview (...</td>\n",
       "    </tr>\n",
       "    <tr>\n",
       "      <th>24</th>\n",
       "      <td>FizzBuzz</td>\n",
       "      <td>Have you ever been asked to solve FizzBuzz in ...</td>\n",
       "    </tr>\n",
       "    <tr>\n",
       "      <th>25</th>\n",
       "      <td>JobFactors</td>\n",
       "      <td>Imagine that you are deciding between two job ...</td>\n",
       "    </tr>\n",
       "    <tr>\n",
       "      <th>26</th>\n",
       "      <td>ResumeUpdate</td>\n",
       "      <td>Think back to the last time you updated your r...</td>\n",
       "    </tr>\n",
       "    <tr>\n",
       "      <th>27</th>\n",
       "      <td>CurrencySymbol</td>\n",
       "      <td>Which currency do you use day-to-day? If your ...</td>\n",
       "    </tr>\n",
       "    <tr>\n",
       "      <th>28</th>\n",
       "      <td>CurrencyDesc</td>\n",
       "      <td>Which currency do you use day-to-day? If your ...</td>\n",
       "    </tr>\n",
       "    <tr>\n",
       "      <th>29</th>\n",
       "      <td>CompTotal</td>\n",
       "      <td>What is your current total compensation (salar...</td>\n",
       "    </tr>\n",
       "    <tr>\n",
       "      <th>...</th>\n",
       "      <td>...</td>\n",
       "      <td>...</td>\n",
       "    </tr>\n",
       "    <tr>\n",
       "      <th>55</th>\n",
       "      <td>Containers</td>\n",
       "      <td>How do you use containers (Docker, Open Contai...</td>\n",
       "    </tr>\n",
       "    <tr>\n",
       "      <th>56</th>\n",
       "      <td>BlockchainOrg</td>\n",
       "      <td>How is your organization thinking about or imp...</td>\n",
       "    </tr>\n",
       "    <tr>\n",
       "      <th>57</th>\n",
       "      <td>BlockchainIs</td>\n",
       "      <td>Blockchain / cryptocurrency technology is prim...</td>\n",
       "    </tr>\n",
       "    <tr>\n",
       "      <th>58</th>\n",
       "      <td>BetterLife</td>\n",
       "      <td>Do you think people born today will have a bet...</td>\n",
       "    </tr>\n",
       "    <tr>\n",
       "      <th>59</th>\n",
       "      <td>ITperson</td>\n",
       "      <td>Are you the \"IT support person\" for your family?</td>\n",
       "    </tr>\n",
       "    <tr>\n",
       "      <th>60</th>\n",
       "      <td>OffOn</td>\n",
       "      <td>Have you tried turning it off and on again?</td>\n",
       "    </tr>\n",
       "    <tr>\n",
       "      <th>61</th>\n",
       "      <td>SocialMedia</td>\n",
       "      <td>What social media site do you use the most?</td>\n",
       "    </tr>\n",
       "    <tr>\n",
       "      <th>62</th>\n",
       "      <td>Extraversion</td>\n",
       "      <td>Do you prefer online chat or IRL conversations?</td>\n",
       "    </tr>\n",
       "    <tr>\n",
       "      <th>63</th>\n",
       "      <td>ScreenName</td>\n",
       "      <td>What do you call it?</td>\n",
       "    </tr>\n",
       "    <tr>\n",
       "      <th>64</th>\n",
       "      <td>SOVisit1st</td>\n",
       "      <td>To the best of your memory, when did you first...</td>\n",
       "    </tr>\n",
       "    <tr>\n",
       "      <th>65</th>\n",
       "      <td>SOVisitFreq</td>\n",
       "      <td>How frequently would you say you visit Stack O...</td>\n",
       "    </tr>\n",
       "    <tr>\n",
       "      <th>66</th>\n",
       "      <td>SOVisitTo</td>\n",
       "      <td>I visit Stack Overflow to... (check all that a...</td>\n",
       "    </tr>\n",
       "    <tr>\n",
       "      <th>67</th>\n",
       "      <td>SOFindAnswer</td>\n",
       "      <td>On average, how many times a week do you find ...</td>\n",
       "    </tr>\n",
       "    <tr>\n",
       "      <th>68</th>\n",
       "      <td>SOTimeSaved</td>\n",
       "      <td>Think back to the last time you solved a codin...</td>\n",
       "    </tr>\n",
       "    <tr>\n",
       "      <th>69</th>\n",
       "      <td>SOHowMuchTime</td>\n",
       "      <td>About how much time did you save? If you're no...</td>\n",
       "    </tr>\n",
       "    <tr>\n",
       "      <th>70</th>\n",
       "      <td>SOAccount</td>\n",
       "      <td>Do you have a Stack Overflow account?</td>\n",
       "    </tr>\n",
       "    <tr>\n",
       "      <th>71</th>\n",
       "      <td>SOPartFreq</td>\n",
       "      <td>How frequently would you say you participate i...</td>\n",
       "    </tr>\n",
       "    <tr>\n",
       "      <th>72</th>\n",
       "      <td>SOJobs</td>\n",
       "      <td>Have you ever used or visited Stack Overflow J...</td>\n",
       "    </tr>\n",
       "    <tr>\n",
       "      <th>73</th>\n",
       "      <td>EntTeams</td>\n",
       "      <td>Have you ever used Stack Overflow for Enterpri...</td>\n",
       "    </tr>\n",
       "    <tr>\n",
       "      <th>74</th>\n",
       "      <td>SOComm</td>\n",
       "      <td>Do you consider yourself a member of the Stack...</td>\n",
       "    </tr>\n",
       "    <tr>\n",
       "      <th>75</th>\n",
       "      <td>WelcomeChange</td>\n",
       "      <td>Compared to last year, how welcome do you feel...</td>\n",
       "    </tr>\n",
       "    <tr>\n",
       "      <th>76</th>\n",
       "      <td>SONewContent</td>\n",
       "      <td>Would you like to see any of the following on ...</td>\n",
       "    </tr>\n",
       "    <tr>\n",
       "      <th>77</th>\n",
       "      <td>Age</td>\n",
       "      <td>What is your age (in years)? If you prefer not...</td>\n",
       "    </tr>\n",
       "    <tr>\n",
       "      <th>78</th>\n",
       "      <td>Gender</td>\n",
       "      <td>Which of the following do you currently identi...</td>\n",
       "    </tr>\n",
       "    <tr>\n",
       "      <th>79</th>\n",
       "      <td>Trans</td>\n",
       "      <td>Do you identify as transgender?</td>\n",
       "    </tr>\n",
       "    <tr>\n",
       "      <th>80</th>\n",
       "      <td>Sexuality</td>\n",
       "      <td>Which of the following do you currently identi...</td>\n",
       "    </tr>\n",
       "    <tr>\n",
       "      <th>81</th>\n",
       "      <td>Ethnicity</td>\n",
       "      <td>Which of the following do you identify as? Ple...</td>\n",
       "    </tr>\n",
       "    <tr>\n",
       "      <th>82</th>\n",
       "      <td>Dependents</td>\n",
       "      <td>Do you have any dependents (e.g., children, el...</td>\n",
       "    </tr>\n",
       "    <tr>\n",
       "      <th>83</th>\n",
       "      <td>SurveyLength</td>\n",
       "      <td>How do you feel about the length of the survey...</td>\n",
       "    </tr>\n",
       "    <tr>\n",
       "      <th>84</th>\n",
       "      <td>SurveyEase</td>\n",
       "      <td>How easy or difficult was this survey to compl...</td>\n",
       "    </tr>\n",
       "  </tbody>\n",
       "</table>\n",
       "<p>85 rows × 2 columns</p>\n",
       "</div>"
      ],
      "text/plain": [
       "          Column                                       QuestionText\n",
       "0     Respondent  Randomized respondent ID number (not in order ...\n",
       "1     MainBranch  Which of the following options best describes ...\n",
       "2       Hobbyist                            Do you code as a hobby?\n",
       "3    OpenSourcer        How often do you contribute to open source?\n",
       "4     OpenSource  How do you feel about the quality of open sour...\n",
       "..           ...                                                ...\n",
       "80     Sexuality  Which of the following do you currently identi...\n",
       "81     Ethnicity  Which of the following do you identify as? Ple...\n",
       "82    Dependents  Do you have any dependents (e.g., children, el...\n",
       "83  SurveyLength  How do you feel about the length of the survey...\n",
       "84    SurveyEase  How easy or difficult was this survey to compl...\n",
       "\n",
       "[85 rows x 2 columns]"
      ]
     },
     "execution_count": 223,
     "metadata": {},
     "output_type": "execute_result"
    }
   ],
   "source": [
    "# show the header and content of each question\n",
    "df_schema"
   ]
  },
  {
   "cell_type": "code",
   "execution_count": 224,
   "metadata": {},
   "outputs": [
    {
     "data": {
      "text/plain": [
       "'Which of the following types of non-degree education have you used or participated in? Please select all that apply.'"
      ]
     },
     "execution_count": 224,
     "metadata": {},
     "output_type": "execute_result"
    }
   ],
   "source": [
    "list(df_schema[df_schema['Column']=='EduOther']['QuestionText'])[0]"
   ]
  },
  {
   "cell_type": "code",
   "execution_count": 225,
   "metadata": {},
   "outputs": [
    {
     "data": {
      "text/plain": [
       "I am a developer by profession                                                   65679\n",
       "I am a student who is learning to code                                           10189\n",
       "I am not primarily a developer, but I write code sometimes as part of my work     7539\n",
       "I code primarily as a hobby                                                       3340\n",
       "I used to be a developer by profession, but no longer am                          1584\n",
       "NaN                                                                                552\n",
       "Name: MainBranch, dtype: int64"
      ]
     },
     "execution_count": 225,
     "metadata": {},
     "output_type": "execute_result"
    }
   ],
   "source": [
    "df['MainBranch'].value_counts(dropna=False)"
   ]
  },
  {
   "cell_type": "code",
   "execution_count": 226,
   "metadata": {},
   "outputs": [
    {
     "data": {
      "text/plain": [
       "Employed full-time                                      64440\n",
       "Independent contractor, freelancer, or self-employed     8511\n",
       "Not employed, but looking for work                       5600\n",
       "Employed part-time                                       4469\n",
       "Not employed, and not looking for work                   3803\n",
       "NaN                                                      1702\n",
       "Retired                                                   358\n",
       "Name: Employment, dtype: int64"
      ]
     },
     "execution_count": 226,
     "metadata": {},
     "output_type": "execute_result"
    }
   ],
   "source": [
    "df['Employment'].value_counts(dropna=False)"
   ]
  },
  {
   "cell_type": "code",
   "execution_count": 227,
   "metadata": {
    "collapsed": true
   },
   "outputs": [
    {
     "data": {
      "text/plain": [
       "United States            20949\n",
       "India                     9061\n",
       "Germany                   5866\n",
       "United Kingdom            5737\n",
       "Canada                    3395\n",
       "                         ...  \n",
       "Saint Kitts and Nevis        1\n",
       "Niger                        1\n",
       "North Korea                  1\n",
       "Chad                         1\n",
       "Brunei Darussalam            1\n",
       "Name: Country, Length: 180, dtype: int64"
      ]
     },
     "execution_count": 227,
     "metadata": {},
     "output_type": "execute_result"
    }
   ],
   "source": [
    "#The developers responded to the survey are from 180 countries.\n",
    "df['Country'].value_counts(dropna=False)"
   ]
  },
  {
   "cell_type": "code",
   "execution_count": 228,
   "metadata": {},
   "outputs": [
    {
     "data": {
      "text/plain": [
       "664"
      ]
     },
     "execution_count": 228,
     "metadata": {},
     "output_type": "execute_result"
    }
   ],
   "source": [
    "# I am curious about developers from China. It turns out that only 600 some developers responded the survey.\n",
    "# Are they too busy, too shy, or simply not aware of this survey?\n",
    "\n",
    "country_counts = df['Country'].value_counts(dropna=False)\n",
    "country_counts['China']"
   ]
  },
  {
   "cell_type": "code",
   "execution_count": 229,
   "metadata": {
    "scrolled": true
   },
   "outputs": [
    {
     "data": {
      "text/plain": [
       "NaN          33060\n",
       "2000000.0      709\n",
       "1000000.0      558\n",
       "120000.0       502\n",
       "100000.0       480\n",
       "             ...  \n",
       "52826.0          1\n",
       "12761.0          1\n",
       "72888.0          1\n",
       "7548.0           1\n",
       "44947.0          1\n",
       "Name: ConvertedComp, Length: 9163, dtype: int64"
      ]
     },
     "execution_count": 229,
     "metadata": {},
     "output_type": "execute_result"
    }
   ],
   "source": [
    "df['ConvertedComp'].value_counts(dropna=False)"
   ]
  },
  {
   "cell_type": "code",
   "execution_count": 218,
   "metadata": {
    "collapsed": true
   },
   "outputs": [
    {
     "data": {
      "text/plain": [
       "NaN     9673\n",
       "25.0    4669\n",
       "24.0    4428\n",
       "27.0    4418\n",
       "26.0    4397\n",
       "        ... \n",
       "22.5       1\n",
       "23.9       1\n",
       "29.5       1\n",
       "46.5       1\n",
       "97.0       1\n",
       "Name: Age, Length: 127, dtype: int64"
      ]
     },
     "execution_count": 218,
     "metadata": {},
     "output_type": "execute_result"
    }
   ],
   "source": [
    "df['Age'].value_counts(dropna=False)"
   ]
  },
  {
   "cell_type": "code",
   "execution_count": 219,
   "metadata": {
    "collapsed": true
   },
   "outputs": [
    {
     "data": {
      "text/plain": [
       "Bachelor’s degree (BA, BS, B.Eng., etc.)                                              39134\n",
       "Master’s degree (MA, MS, M.Eng., MBA, etc.)                                           19569\n",
       "Some college/university study without earning a degree                                10502\n",
       "Secondary school (e.g. American high school, German Realschule or Gymnasium, etc.)     8642\n",
       "Associate degree                                                                       2938\n",
       "NaN                                                                                    2493\n",
       "Other doctoral degree (Ph.D, Ed.D., etc.)                                              2432\n",
       "Primary/elementary school                                                              1422\n",
       "Professional degree (JD, MD, etc.)                                                     1198\n",
       "I never completed any formal education                                                  553\n",
       "Name: EdLevel, dtype: int64"
      ]
     },
     "execution_count": 219,
     "metadata": {},
     "output_type": "execute_result"
    }
   ],
   "source": [
    "#The education level ranges from elementary school(!/?) to Doctoral degree.\n",
    "df['EdLevel'].value_counts(dropna=False)"
   ]
  },
  {
   "cell_type": "code",
   "execution_count": 15,
   "metadata": {
    "collapsed": true
   },
   "outputs": [
    {
     "data": {
      "text/plain": [
       "array([nan, 'Web development or web design',\n",
       "       'Computer science, computer engineering, or software engineering',\n",
       "       'Mathematics or statistics',\n",
       "       'Another engineering discipline (ex. civil, electrical, mechanical)',\n",
       "       'Information systems, information technology, or system administration',\n",
       "       'A business discipline (ex. accounting, finance, marketing)',\n",
       "       'A natural science (ex. biology, chemistry, physics)',\n",
       "       'A social science (ex. anthropology, psychology, political science)',\n",
       "       'A humanities discipline (ex. literature, history, philosophy)',\n",
       "       'Fine arts or performing arts (ex. graphic design, music, studio art)',\n",
       "       'A health science (ex. nursing, pharmacy, radiology)',\n",
       "       'I never declared a major'], dtype=object)"
      ]
     },
     "execution_count": 15,
     "metadata": {},
     "output_type": "execute_result"
    }
   ],
   "source": [
    "#Some nun value in the data. Needs some data cleaning.\n",
    "df['UndergradMajor'].unique()"
   ]
  },
  {
   "cell_type": "code",
   "execution_count": 16,
   "metadata": {
    "collapsed": true
   },
   "outputs": [
    {
     "data": {
      "text/plain": [
       "NaN     9673\n",
       "25.0    4669\n",
       "24.0    4428\n",
       "27.0    4418\n",
       "26.0    4397\n",
       "        ... \n",
       "22.5       1\n",
       "23.9       1\n",
       "29.5       1\n",
       "46.5       1\n",
       "97.0       1\n",
       "Name: Age, Length: 127, dtype: int64"
      ]
     },
     "execution_count": 16,
     "metadata": {},
     "output_type": "execute_result"
    }
   ],
   "source": [
    "#Some nun value in the data. Needs some data cleaning.\n",
    "#Some data is out of range, indiating the developer is not truthful about their age. \n",
    "#We might want to focus on the more meaning range of ages.\n",
    "df['Age'].value_counts(dropna=False)"
   ]
  },
  {
   "cell_type": "markdown",
   "metadata": {},
   "source": [
    "## Some findings for data exploration\n",
    "\n",
    "Some columns have multiple answers as string concatinated with delimiters. We need to define a process to separate out individual answers before further analysis.\n",
    "\n",
    "We might need to bucketize some of the columns (such as data related to age).\n",
    "\n",
    "Some column are string values, but they can be meaningfully converted to ordinal numerical values for further statistical analysis, such as Job Satifaction.\n",
    "\n",
    "A lot of columns have nan value, we need to fill or filter out them.\n",
    "\n",
    "Some columns have extreme value, we might need to filter them out.\n",
    "\n",
    "Some column have values that are statistically insignificant, which might needs attention. "
   ]
  },
  {
   "cell_type": "markdown",
   "metadata": {},
   "source": [
    "## Data cleaning and prepare the dataframe for further analysis"
   ]
  },
  {
   "cell_type": "code",
   "execution_count": 18,
   "metadata": {
    "collapsed": true
   },
   "outputs": [],
   "source": [
    "#clean up some of numerical columns from strings to numerics\n",
    "#because most of the answers are intergers, only some of extreme values are represented with string. \n",
    "#For this study, it is reasonable to approximate the extreme values to a number on the boundary.\n",
    "\n",
    "#Also, the columns generally have nan values.\n",
    "#I used mean value to fill the nan values,since they represent a big chunk of data and I think filling the nan with mean value will not bias the results. \n",
    "\n",
    "#For the target columns, after all rows are filled interger values, the column datatype is converted to numeric to be sure.\n",
    "\n",
    "#The following columns are of study interest and therefore processed based on their specific string values:\n",
    "# Age1stCode, YearsCodePro, YearsCode\n"
   ]
  },
  {
   "cell_type": "code",
   "execution_count": 230,
   "metadata": {
    "collapsed": true
   },
   "outputs": [],
   "source": [
    "df['Age1stCode'].replace(['Younger than 5 years'], 4, inplace = True)\n",
    "\n",
    "df['Age1stCode'].replace(['Older than 85'], 85, inplace = True)\n",
    "\n",
    "df['Age1stCode'] = pd.to_numeric(df['Age1stCode'], errors='coerce')\n",
    "\n",
    "df['Age1stCode'].fillna(value = df['Age1stCode'].mean(skipna = True), inplace = True)"
   ]
  },
  {
   "cell_type": "code",
   "execution_count": 231,
   "metadata": {
    "collapsed": true
   },
   "outputs": [],
   "source": [
    "df['YearsCodePro'].replace(['Less than 1 year'], 1, inplace = True)\n",
    "\n",
    "df['YearsCodePro'].replace(['More than 50 years'], 50, inplace = True)\n",
    "\n",
    "df['YearsCodePro'] = pd.to_numeric(df['YearsCodePro'], errors='coerce')\n",
    "\n",
    "df['YearsCodePro'].fillna(value = df['YearsCodePro'].mean(skipna = True), inplace = True)"
   ]
  },
  {
   "cell_type": "code",
   "execution_count": 232,
   "metadata": {
    "collapsed": true
   },
   "outputs": [],
   "source": [
    "df['YearsCode'].replace(['Less than 1 year'], 1, inplace = True)\n",
    "\n",
    "df['YearsCode'].replace(['More than 50 years'], 50, inplace = True)\n",
    "\n",
    "df['YearsCodePro'] = pd.to_numeric(df['YearsCodePro'], errors='coerce')\n",
    "\n",
    "df['YearsCodePro'].fillna(value = df['YearsCodePro'].mean(skipna = True), inplace = True)"
   ]
  },
  {
   "cell_type": "markdown",
   "metadata": {},
   "source": [
    "## for some continuous variables, create bins to better assist statistical summary"
   ]
  },
  {
   "cell_type": "code",
   "execution_count": 233,
   "metadata": {
    "collapsed": true
   },
   "outputs": [],
   "source": [
    "#create bins for better statistical analysis\n",
    "#I choose to focus on age range between 20-60, a reasonable working age range. \n",
    "#The range is then divided into bins with 5 years for each bin. \n",
    "#A column of Age_bin is created to facilitate further statistic analysis.\n",
    "\n",
    "age_bins = np.array([0,20,25,30,35,40,45,50,55,60,100])\n",
    "age_labels = np.array(['0-20','20-25','25-30','30-35','35-40','40-45','45-50','50-55','55-60','60-100'])\n",
    "\n",
    "df['Age_bin'] = pd.cut(df['Age'], bins=age_bins, labels=age_labels, right=False)"
   ]
  },
  {
   "cell_type": "code",
   "execution_count": 234,
   "metadata": {
    "collapsed": true
   },
   "outputs": [],
   "source": [
    "#create bins for better statistical analysis\n",
    "#I choose to focus on age range between 10-25, a reasonable range to cover early starters in coding. \n",
    "#The range is then divided into bins with 5 years for each bin. \n",
    "#A column of Age1stCode_bins is created to facilitate further statistic analysis.\n",
    "\n",
    "Age1stCode_bins = np.array([0,10,15,20,25,100])\n",
    "Age1stCode_labels = np.array(['0-10','10-15','15-20','20-25','25-100'])\n",
    "\n",
    "df['Age1stCode_bin'] = pd.cut(df['Age1stCode'], bins=Age1stCode_bins, labels=Age1stCode_labels, right=False)"
   ]
  },
  {
   "cell_type": "markdown",
   "metadata": {},
   "source": [
    "## create a filtered dataframe for later statistical analysis"
   ]
  },
  {
   "cell_type": "code",
   "execution_count": 235,
   "metadata": {
    "collapsed": true
   },
   "outputs": [],
   "source": [
    "# create a copy of the dataframe for some further filtering process\n",
    "df_filtered = df.copy()\n",
    "\n",
    "#I noticed that answers beyond 20-60 years range often shows radical numbers, shadowing the credibility of the answer sheet.\n",
    "#I choose to filter out the data beyond 20-60, which is working age and my study focus anyway.\n",
    "\n",
    "df_filtered = df_filtered[(df_filtered['Age']>20) & (df_filtered['Age']<60) ]\n",
    "\n",
    "df_filtered['JobSat'].fillna(value = 'Neither satisfied nor dissatisfied', inplace=True)\n",
    "\n",
    "#Some of the categorical columns have nan values, I could not predict the value. Using mode does not seem to be a good option. \n",
    "#I choosed to filter the data for simplicity.  \n",
    "df_filtered.dropna(subset = ['UndergradMajor', 'EdLevel', 'LanguageWorkedWith', 'LanguageDesireNextYear'], inplace = True)\n",
    "\n",
    "#remove some radical answer\n",
    "df_filtered = df_filtered[~(df_filtered['UndergradMajor'] == 'I never declared a major')]\n",
    "\n",
    "#remove some more radical answers\n",
    "df_filtered = df_filtered[~ ((df_filtered['EdLevel'] == 'Primary/elementary school') \n",
    "                           | (df_filtered['EdLevel'] == 'I never completed any formal education')  )]\n"
   ]
  },
  {
   "cell_type": "code",
   "execution_count": 236,
   "metadata": {
    "collapsed": true
   },
   "outputs": [],
   "source": [
    "## for some catgorical variables with ordinal nature, create ordinal value column.\n",
    "\n",
    "SatLevel = {'Slightly satisfied': 1, 'Slightly dissatisfied' : -1,\n",
    "       'Neither satisfied nor dissatisfied': 0, 'Very satisfied': 2,\n",
    "       'Very dissatisfied': -2, }\n",
    "\n",
    "df_filtered['JobSatLevel'] = df_filtered['JobSat'].apply(lambda val: SatLevel[val])"
   ]
  },
  {
   "cell_type": "markdown",
   "metadata": {},
   "source": [
    "# define some functions to be used for question answering"
   ]
  },
  {
   "cell_type": "code",
   "execution_count": 191,
   "metadata": {
    "collapsed": true
   },
   "outputs": [],
   "source": [
    "def remove_outlier(df_in, col_name, low =0.05, high = 0.95):\n",
    "    \"\"\"\n",
    "    Description: This function remove rows, by filter out extreme values from the target column of a dataframe.\n",
    "\n",
    "    Arguments:\n",
    "        df_in: the input dataframe. \n",
    "        col_name: The name of the target column to remove extreme values. \n",
    "        low: The low end quantile threthhold. \n",
    "        high: The high end quantile threthhold. \n",
    "    Returns:\n",
    "        df_out_1: return a dataframe with the processed target column.\n",
    "    \"\"\"\n",
    "    \n",
    "    q1 = df_in[col_name].quantile(low)\n",
    "    q3 = df_in[col_name].quantile(high)\n",
    "    iqr = q3-q1 \n",
    "    fence_low  = q1-1.5*iqr\n",
    "    fence_high = q3+1.5*iqr\n",
    "    \n",
    "    df_out = df_in.loc[(df_in[col_name] > fence_low) & (df_in[col_name] < fence_high)]\n",
    "    \n",
    "    return df_out"
   ]
  },
  {
   "cell_type": "code",
   "execution_count": 59,
   "metadata": {
    "collapsed": true
   },
   "outputs": [],
   "source": [
    "#multiple-selection question analysis\n",
    "from collections import defaultdict\n",
    "def multipleSelection_stats(df, column_name, title, delimiter = ';'):\n",
    "    \n",
    "    \"\"\"\n",
    "    Description: This function map multiple choice answers for each row into multiple rows. Each selection in one row.\n",
    "\n",
    "    Arguments:\n",
    "        df: the input dataframe. \n",
    "        column_name: The name of the target column of multiple choice answer. \n",
    "        title: The question for the target columns as a tile for the output dataframe\n",
    "        delimiter: The delimiter for multiple choice answer string\n",
    "    Returns:\n",
    "        df_out_1: return a dataframe with the target column mapped into one anwser per row.\n",
    "    \"\"\"\n",
    "    \n",
    "    out_dict = defaultdict(int)\n",
    "    \n",
    "    for ans in df[column_name].dropna():\n",
    "        for selection in ans.split(delimiter):\n",
    "            out_dict[selection] += 1\n",
    "#     title = list(df_schema[df_schema['Column']==targetcolumn]['QuestionText'])[0]\n",
    "    df_out = pd.DataFrame(list(out_dict.items()), columns=['answer', 'counts'])\n",
    "    \n",
    "    df_out_1 = pd.DataFrame(columns=['answer', 'counts'])\n",
    "\n",
    "    for group in df_out.groupby(['counts'])['answer']:\n",
    "        df_out_1 = df_out_1.append({'answer' : group[1].str.cat(sep=',') , 'counts' : group[0]}, ignore_index=True)\n",
    "        \n",
    "    df_out_1.sort_values(ascending=False,inplace=True,by=['counts'])\n",
    "        \n",
    "    return df_out_1\n",
    "#"
   ]
  },
  {
   "cell_type": "code",
   "execution_count": 58,
   "metadata": {
    "collapsed": true
   },
   "outputs": [],
   "source": [
    "def heatmap_plot(hm_arr, x_tag, y_tag, y_label = 'Y Label', x_label = 'X Label', title = 'Chart Title'):\n",
    "    \n",
    "    \"\"\"\n",
    "    Description: The boilerplate code to generate a heat map for this study.\n",
    "\n",
    "    Arguments:\n",
    "        hm_arr: The input 2d numpy array. \n",
    "        x_tag: The list of x axis, one tag for each column.\n",
    "        y_tag: The list of y axis, one tag for each row\n",
    "        x_label: The label for x axis\n",
    "        y_label: The label for y axis\n",
    "        title: The char title\n",
    "    Returns:\n",
    "        fig: The generated 2d heatmap figure object.\n",
    "    \"\"\"\n",
    "\n",
    "\n",
    "    fig, ax = plt.subplots()\n",
    "    im = ax.imshow(hm_arr)\n",
    "\n",
    "    fig.set_size_inches(18.5, 10.5)\n",
    "\n",
    "\n",
    "    # We want to show all ticks...\n",
    "    ax.set_xticks(np.arange(len(x_tag)))\n",
    "    ax.set_yticks(np.arange(len(y_tag)))\n",
    "    # ... and label them with the respective list entries\n",
    "    ax.set_xticklabels(x_tag)\n",
    "    ax.set_yticklabels(y_tag)\n",
    "\n",
    "    plt.ylabel(y_label)\n",
    "    plt.xlabel(x_label)\n",
    "\n",
    "\n",
    "    # Rotate the tick labels and set their alignment.\n",
    "    plt.setp(ax.get_xticklabels(), rotation=45, ha=\"right\",\n",
    "             rotation_mode=\"anchor\")\n",
    "\n",
    "    ax.set_title(title)\n",
    "    fig.tight_layout()\n",
    "    \n",
    "    return fig    "
   ]
  },
  {
   "cell_type": "markdown",
   "metadata": {
    "collapsed": true
   },
   "source": [
    "# Questions with Findings"
   ]
  },
  {
   "cell_type": "markdown",
   "metadata": {},
   "source": [
    "## Question 1: <a class=\"anchor\" id=\"Q1\"> </a>\n"
   ]
  },
  {
   "cell_type": "markdown",
   "metadata": {},
   "source": [
    "Given a programming language you are working with now, what other language you might want to know and learn? \n",
    "\n",
    "For the language developer is working on, what is the retention rate?(Are they happy with the current language?)\n",
    "\n",
    "The developer would be better guided in developing their skills set, with the findings."
   ]
  },
  {
   "cell_type": "code",
   "execution_count": 197,
   "metadata": {},
   "outputs": [
    {
     "data": {
      "text/plain": [
       "50674"
      ]
     },
     "execution_count": 197,
     "metadata": {},
     "output_type": "execute_result"
    }
   ],
   "source": [
    "# we still have more than 50k samples, suitable for statistically analysis of this study.\n",
    "df_filtered[['LanguageWorkedWith','LanguageDesireNextYear']].shape[0]"
   ]
  },
  {
   "cell_type": "code",
   "execution_count": 198,
   "metadata": {
    "collapsed": true
   },
   "outputs": [],
   "source": [
    "#The data after some inital cleaning is used for this analysis\n",
    "lang_migrate_summary = df_filtered[['LanguageWorkedWith','LanguageDesireNextYear']]\n"
   ]
  },
  {
   "cell_type": "code",
   "execution_count": 199,
   "metadata": {},
   "outputs": [
    {
     "data": {
      "text/plain": [
       "LanguageWorkedWith        False\n",
       "LanguageDesireNextYear    False\n",
       "dtype: bool"
      ]
     },
     "execution_count": 199,
     "metadata": {},
     "output_type": "execute_result"
    }
   ],
   "source": [
    "#make sure no nan value\n",
    "lang_migrate_summary.isna().any()"
   ]
  },
  {
   "cell_type": "code",
   "execution_count": 79,
   "metadata": {
    "collapsed": true
   },
   "outputs": [
    {
     "name": "stderr",
     "output_type": "stream",
     "text": [
      "C:\\ProgramData\\Anaconda3\\lib\\site-packages\\ipykernel_launcher.py:7: SettingWithCopyWarning: \n",
      "A value is trying to be set on a copy of a slice from a DataFrame.\n",
      "Try using .loc[row_indexer,col_indexer] = value instead\n",
      "\n",
      "See the caveats in the documentation: http://pandas.pydata.org/pandas-docs/stable/user_guide/indexing.html#returning-a-view-versus-a-copy\n",
      "  import sys\n",
      "C:\\ProgramData\\Anaconda3\\lib\\site-packages\\ipykernel_launcher.py:8: SettingWithCopyWarning: \n",
      "A value is trying to be set on a copy of a slice from a DataFrame.\n",
      "Try using .loc[row_indexer,col_indexer] = value instead\n",
      "\n",
      "See the caveats in the documentation: http://pandas.pydata.org/pandas-docs/stable/user_guide/indexing.html#returning-a-view-versus-a-copy\n",
      "  \n"
     ]
    }
   ],
   "source": [
    "#this segment creates a dataframe with one unique answer for each row of the target column, \n",
    "#with the answer as first column, and counts for each of the orginal column\n",
    "#for the rows with two target columns of same value, we set them to be zero. \n",
    "#This presumably helps the heatmap to be more illustrative.\n",
    "\n",
    "#split multiple answer string into list\n",
    "lang_migrate_summary['LanguageWorkedWith'] = lang_migrate_summary['LanguageWorkedWith'].str.split(';')\n",
    "lang_migrate_summary['LanguageDesireNextYear'] = lang_migrate_summary['LanguageDesireNextYear'].str.split(';')\n",
    "\n",
    "# expand list into multiple rows \n",
    "lang_migrate_summary = lang_migrate_summary.explode(column = 'LanguageWorkedWith' )\n",
    "lang_migrate_summary = lang_migrate_summary.explode(column = 'LanguageDesireNextYear' )\n",
    "\n",
    "#mark, zero out the diagnal term\n",
    "lang_migrate_summary['same'] = (lang_migrate_summary['LanguageWorkedWith'] == lang_migrate_summary['LanguageDesireNextYear'])\n",
    "\n",
    "#count duplicate rows and add the count to a separate column\n",
    "lang_migrate_summary['counts'] = lang_migrate_summary.groupby(['LanguageWorkedWith','LanguageDesireNextYear']).transform('count')\n",
    "\n",
    "# remove duplicate rows\n",
    "lang_migrate_summary.drop_duplicates(inplace = True)"
   ]
  },
  {
   "cell_type": "code",
   "execution_count": 80,
   "metadata": {
    "collapsed": true
   },
   "outputs": [],
   "source": [
    "#pivot the dataframe into 2D array for heat map plots\n",
    "df_heatmap = lang_migrate_summary.drop(columns = ['same']).pivot(index='LanguageWorkedWith', columns='LanguageDesireNextYear', values='counts')\n",
    "\n",
    "df_heatmap.fillna(0, inplace = True)"
   ]
  },
  {
   "cell_type": "code",
   "execution_count": 81,
   "metadata": {},
   "outputs": [
    {
     "data": {
      "image/png": "[encoded data removed]",
      "text/plain": [
       "<matplotlib.figure.Figure at 0x1f61d1b9cf8>"
      ]
     },
     "metadata": {},
     "output_type": "display_data"
    }
   ],
   "source": [
    "#create heatmap plot \n",
    "hm_arr = df_heatmap.to_numpy()\n",
    "x_tag = df_heatmap.columns\n",
    "y_tag = df_heatmap.index\n",
    "fig = heatmap_plot(hm_arr, x_tag, y_tag, \n",
    "                   y_label = 'Current Developing Language', \n",
    "                   x_label = 'Desired Developing Language', \n",
    "                   title = 'Programming language desire heatmap')\n",
    "\n",
    "fig.savefig('./output/languagedesire_full.png', dpi=100)\n",
    "\n",
    "plt.show()"
   ]
  },
  {
   "cell_type": "code",
   "execution_count": 82,
   "metadata": {
    "collapsed": true
   },
   "outputs": [],
   "source": [
    "# filter out less used language, focus on top 12 popular language\n",
    "target_lang = ['Bash/Shell/PowerShell','Go', 'HTML/CSS', 'Java', 'JavaScript','PHP', 'Python', 'R', 'Ruby', 'SQL', 'Scala', 'TypeScript']\n",
    "\n",
    "lang_migrate_summary_less = lang_migrate_summary[(lang_migrate_summary['LanguageWorkedWith'].isin(target_lang)) & (lang_migrate_summary['LanguageDesireNextYear'].isin(target_lang)) ]"
   ]
  },
  {
   "cell_type": "code",
   "execution_count": 84,
   "metadata": {},
   "outputs": [
    {
     "data": {
      "image/png": "[encoded data removed]",
      "text/plain": [
       "<matplotlib.figure.Figure at 0x1f6196fb828>"
      ]
     },
     "metadata": {},
     "output_type": "display_data"
    }
   ],
   "source": [
    "\n",
    "#pivot the table into 2D array\n",
    "df_heatmap = lang_migrate_summary_less.drop(columns = ['same']).pivot(index='LanguageWorkedWith', columns='LanguageDesireNextYear', values='counts')\n",
    "df_heatmap.fillna(0, inplace = True)\n",
    "\n",
    "#create heatmap plot \n",
    "hm_arr = df_heatmap.to_numpy()\n",
    "\n",
    "x_tag = df_heatmap.columns\n",
    "\n",
    "y_tag = df_heatmap.index\n",
    "\n",
    "fig = heatmap_plot(hm_arr, x_tag, y_tag, \n",
    "                   y_label = 'Current Developing Language', \n",
    "                   x_label = 'Desired Developing Language', \n",
    "                   title = 'Programming language desire heatmap for popular languages')\n",
    "\n",
    "fig.savefig('./output/languagedesire_popular.png', dpi=100)\n",
    "\n",
    "plt.show()"
   ]
  },
  {
   "cell_type": "code",
   "execution_count": 20,
   "metadata": {
    "collapsed": true
   },
   "outputs": [
    {
     "data": {
      "text/plain": [
       "<matplotlib.axes._subplots.AxesSubplot at 0x1a402907f60>"
      ]
     },
     "execution_count": 20,
     "metadata": {},
     "output_type": "execute_result"
    },
    {
     "data": {
      "image/png": "[encoded data removed]",
      "text/plain": [
       "<matplotlib.figure.Figure at 0x1a40276d198>"
      ]
     },
     "metadata": {},
     "output_type": "display_data"
    }
   ],
   "source": [
    "#find lanuage retention rate (If developer selected to continue coding with the current language they are using?)\n",
    "lang_migrate_summary['total'] = lang_migrate_summary['LanguageWorkedWith'].apply(\n",
    "    lambda col: lang_migrate_summary[lang_migrate_summary['LanguageWorkedWith']  == col]['counts'].sum())\n",
    "\n",
    "lang_migrate_summary['retent_ratio'] =  lang_migrate_summary['counts']/lang_migrate_summary['total']\n",
    "\n",
    "data_plot_bar = lang_migrate_summary[lang_migrate_summary['same'] == True][['LanguageWorkedWith','retent_ratio']]\n",
    "\n",
    "data_plot_bar.sort_values(['retent_ratio'], ascending =  True, inplace = True)\n",
    "data_plot_bar.plot.barh(y = 'retent_ratio', x = 'LanguageWorkedWith', figsize = (20, 10), legend = True, title = 'Retention ratio for each programming language.')"
   ]
  },
  {
   "cell_type": "markdown",
   "metadata": {},
   "source": [
    "## Findings: \n",
    "\n",
    "Correlation patterns between various languages are shown in the heatmap. The heatmap could serve as skill set development guideance for developers who want to expand from their current technical field to other related field.\n",
    "\n",
    "Diagnal values are set to zero, which is potential too high comparing to the off-diagnal values, to ensure heatmap color scale is in check. The diagnal values are presented in a separate plot, toward the end of the supporting analysis of this question. While Rust has the highest rentention rate, Python, Typescript, javascript are high in list as well as a popular language.\n",
    "\n",
    "Javascript, SQL, HTML/CSS developers are most eager to learn other languages. These three languages also have high correlations, indicating they are a set of essential and complementary skills during daily work. \n"
   ]
  },
  {
   "cell_type": "markdown",
   "metadata": {},
   "source": [
    "## Question 2: <a class=\"anchor\" id=\"Q2\"> </a>\n",
    "\n",
    "\n",
    "Which programming language is in high demand? what language might get you higher salary?"
   ]
  },
  {
   "cell_type": "code",
   "execution_count": 237,
   "metadata": {
    "collapsed": true
   },
   "outputs": [],
   "source": [
    "lang_comp_summary = df_filtered[['LanguageWorkedWith','Country','ConvertedComp']]"
   ]
  },
  {
   "cell_type": "code",
   "execution_count": 238,
   "metadata": {},
   "outputs": [
    {
     "data": {
      "text/plain": [
       "LanguageWorkedWith    False\n",
       "Country               False\n",
       "ConvertedComp          True\n",
       "dtype: bool"
      ]
     },
     "execution_count": 238,
     "metadata": {},
     "output_type": "execute_result"
    }
   ],
   "source": [
    "lang_comp_summary.isna().any()"
   ]
  },
  {
   "cell_type": "code",
   "execution_count": 239,
   "metadata": {
    "collapsed": true
   },
   "outputs": [],
   "source": [
    "#There are some nan and exterme values in converted compensation. \n",
    "#A lot of people are not comfortable to tell they salary. \n",
    "#For this study, we will not filter out the compensation. \n",
    "#The mean calculation will skip them, while we still retain the data regardin their programming language."
   ]
  },
  {
   "cell_type": "code",
   "execution_count": 240,
   "metadata": {
    "collapsed": true
   },
   "outputs": [],
   "source": [
    "#First filter out extreme values\n",
    "df_filtered = remove_outlier(df_filtered, 'ConvertedComp', low = 0.05, high = 0.95 )"
   ]
  },
  {
   "cell_type": "code",
   "execution_count": 241,
   "metadata": {
    "collapsed": true
   },
   "outputs": [],
   "source": [
    "#We limit the compensation range to be a reasonable range of 5000 USD and 500000 USD\n",
    "df_filtered = df_filtered[(df_filtered['ConvertedComp']>5000) & (df_filtered['ConvertedComp']<500000) ]"
   ]
  },
  {
   "cell_type": "code",
   "execution_count": 242,
   "metadata": {},
   "outputs": [],
   "source": [
    "lang_comp_summary['LanguageWorkedWith'] = df_filtered['LanguageWorkedWith'].str.split(';')\n",
    "\n",
    "# conver string value into list for target column \n",
    "lang_comp_summary = lang_comp_summary.explode(column = 'LanguageWorkedWith' )"
   ]
  },
  {
   "cell_type": "code",
   "execution_count": 243,
   "metadata": {},
   "outputs": [
    {
     "data": {
      "image/png": "[encoded data removed]",
      "text/plain": [
       "<matplotlib.figure.Figure at 0x1f6098e8588>"
      ]
     },
     "metadata": {},
     "output_type": "display_data"
    }
   ],
   "source": [
    "data_plot_bar = lang_comp_summary.groupby(['LanguageWorkedWith'])['ConvertedComp'].agg(['mean','count'])\n",
    "\n",
    "data_plot_bar = data_plot_bar.round({'mean': 0}).sort_values(['mean'], ascending = True)\n",
    "\n",
    "barh = data_plot_bar.plot.barh(y = 'mean', figsize = (20, 10), legend = True, title = 'Mean salary for each developing language.')\n"
   ]
  },
  {
   "cell_type": "code",
   "execution_count": 247,
   "metadata": {},
   "outputs": [],
   "source": [
    "fig = barh.get_figure()\n",
    "fig.savefig(\"./output/lang_salary.png\")"
   ]
  },
  {
   "cell_type": "code",
   "execution_count": 249,
   "metadata": {},
   "outputs": [
    {
     "data": {
      "image/png": "[encoded data removed]",
      "text/plain": [
       "<matplotlib.figure.Figure at 0x1f62251bd68>"
      ]
     },
     "metadata": {},
     "output_type": "display_data"
    }
   ],
   "source": [
    "data_plot_bar.sort_values(['count'], ascending = True, inplace= True)\n",
    "barh = data_plot_bar.plot.barh(y = 'count', figsize = (20, 10), legend = True, title = 'Number of developers (Jobs!) for each developing language')"
   ]
  },
  {
   "cell_type": "code",
   "execution_count": 250,
   "metadata": {
    "collapsed": true
   },
   "outputs": [],
   "source": [
    "fig = barh.get_figure()\n",
    "fig.savefig(\"./output/lang_popularity.png\")"
   ]
  },
  {
   "cell_type": "markdown",
   "metadata": {},
   "source": [
    "## Findings:\n",
    "I presented the findings in two plots:\n",
    "1. sorted by mean salary. \n",
    "2. sorted by number of developers. \n",
    "\n",
    "It seems that some special language get highest salary with lowest demand, like: Clojure, Go, Scala, etc, indicating they belong to niche skill market.\n",
    "\n",
    "For languages with high demand, Javascript crowns, followed by HTML/CSS, SQL. But they do not get high avarage salary compare to other languages.\n",
    "\n",
    "Python certainly is both in high demand and pays well. \n",
    "\n",
    "It is noteworthy that the language of 'Bash/Shell/PowerShell' seems to an essential skill for high salary in high demand."
   ]
  },
  {
   "cell_type": "markdown",
   "metadata": {
    "collapsed": true
   },
   "source": [
    "## Question 3: <a class=\"anchor\" id=\"Q3\"> </a>\n",
    "\n",
    "Age factors in your developer career:\n",
    "\n",
    "There is a myst that programming is only good for young guys. Is that true?\n",
    "\n",
    "Given certain age, what is the outlook for:\n",
    "* weekly work hours\n",
    "* compensation\n",
    "* most importantly, are you still going to be happy about your job?"
   ]
  },
  {
   "cell_type": "code",
   "execution_count": 228,
   "metadata": {
    "collapsed": true
   },
   "outputs": [
    {
     "data": {
      "text/plain": [
       "Age_bin\n",
       "0-20            0\n",
       "20-25     1855744\n",
       "25-30     2907092\n",
       "30-35     1985051\n",
       "35-40     1317836\n",
       "40-45      690904\n",
       "45-50      349903\n",
       "50-55      211897\n",
       "55-60      114275\n",
       "60-100          0\n",
       "Name: Respondent, dtype: int64"
      ]
     },
     "execution_count": 228,
     "metadata": {},
     "output_type": "execute_result"
    }
   ],
   "source": [
    "#given the computer programming as a career is relatively new compare to other industry, \n",
    "#the growing of developer over the time is not considered.\n",
    "df_filtered.groupby(['Age_bin'])['Respondent'].count()"
   ]
  },
  {
   "cell_type": "code",
   "execution_count": 188,
   "metadata": {
    "collapsed": true
   },
   "outputs": [
    {
     "data": {
      "text/plain": [
       "40.0      24327\n",
       "45.0       5143\n",
       "50.0       3660\n",
       "NaN        3270\n",
       "35.0       2518\n",
       "          ...  \n",
       "62.5          1\n",
       "137.5         1\n",
       "6.4           1\n",
       "39.8          1\n",
       "4850.0        1\n",
       "Name: WorkWeekHrs, Length: 182, dtype: int64"
      ]
     },
     "execution_count": 188,
     "metadata": {},
     "output_type": "execute_result"
    }
   ],
   "source": [
    "df_filtered['WorkWeekHrs'].value_counts(dropna=False)"
   ]
  },
  {
   "cell_type": "code",
   "execution_count": 251,
   "metadata": {
    "collapsed": true
   },
   "outputs": [],
   "source": [
    "#find some nan and extreme values in the working hours. \n",
    "df_filtered.dropna(subset=['WorkWeekHrs'], inplace=True)"
   ]
  },
  {
   "cell_type": "code",
   "execution_count": 252,
   "metadata": {
    "collapsed": true
   },
   "outputs": [],
   "source": [
    "df_filtered = remove_outlier(df_filtered, 'WorkWeekHrs', low = 0.05, high = 0.95 )"
   ]
  },
  {
   "cell_type": "code",
   "execution_count": 255,
   "metadata": {
    "collapsed": true
   },
   "outputs": [],
   "source": [
    "#there are still a lot of extreme values. Like 1 hour per week, 145 hour per week. \n",
    "#we will focus on weekly working hours reasonable range of 10 to 100 hours\n",
    "df_filtered = df_filtered[(df_filtered['WorkWeekHrs']>10) & (df_filtered['WorkWeekHrs']<100) ]"
   ]
  },
  {
   "cell_type": "code",
   "execution_count": 256,
   "metadata": {},
   "outputs": [
    {
     "data": {
      "text/plain": [
       "40.00    20067\n",
       "45.00     4012\n",
       "50.00     2717\n",
       "35.00     2141\n",
       "38.00     1097\n",
       "         ...  \n",
       "39.25        1\n",
       "43.40        1\n",
       "62.00        1\n",
       "73.00        1\n",
       "67.00        1\n",
       "Name: WorkWeekHrs, Length: 104, dtype: int64"
      ]
     },
     "execution_count": 256,
     "metadata": {},
     "output_type": "execute_result"
    }
   ],
   "source": [
    "df_filtered['WorkWeekHrs'].value_counts(dropna=False)"
   ]
  },
  {
   "cell_type": "code",
   "execution_count": 257,
   "metadata": {},
   "outputs": [
    {
     "data": {
      "text/plain": [
       "array([40.  , 15.  , 32.  , 45.  , 35.  , 39.  , 50.  , 42.  , 70.  ,\n",
       "       38.  , 25.  , 44.  , 75.  , 48.  , 37.  , 30.  , 37.5 , 36.  ,\n",
       "       34.  , 43.  , 60.  , 28.  , 20.  , 55.  , 41.  , 42.5 , 38.5 ,\n",
       "       52.  , 12.  , 33.  , 46.  , 13.  , 47.  , 24.  , 49.  , 65.  ,\n",
       "       58.  , 36.25, 11.  , 14.  , 36.5 , 22.2 , 62.  , 41.5 , 21.  ,\n",
       "       51.  , 54.  , 56.  , 17.  , 16.  , 22.  , 18.  , 47.5 , 37.25,\n",
       "       66.  , 57.  , 32.5 , 31.5 , 79.  , 29.  , 76.  , 31.  , 19.  ,\n",
       "       23.  , 37.75, 34.5 , 74.  , 53.  , 22.5 , 36.75, 33.5 , 72.5 ,\n",
       "       61.  , 77.  , 16.5 , 35.5 , 27.  , 72.  , 69.  , 26.  , 40.5 ,\n",
       "       67.  , 38.75, 33.6 , 37.6 , 63.  , 38.3 , 43.4 , 62.5 , 39.75,\n",
       "       73.  , 39.5 , 32.25, 66.5 , 37.8 , 57.5 , 47.25, 19.25, 19.5 ,\n",
       "       46.5 , 39.25, 39.8 , 41.25, 52.5 ])"
      ]
     },
     "execution_count": 257,
     "metadata": {},
     "output_type": "execute_result"
    }
   ],
   "source": [
    "df_filtered['WorkWeekHrs'].unique()"
   ]
  },
  {
   "cell_type": "code",
   "execution_count": 260,
   "metadata": {},
   "outputs": [
    {
     "data": {
      "text/plain": [
       " 1    13733\n",
       " 2    12787\n",
       "-1     6001\n",
       " 0     4137\n",
       "-2     2568\n",
       "Name: JobSatLevel, dtype: int64"
      ]
     },
     "execution_count": 260,
     "metadata": {},
     "output_type": "execute_result"
    }
   ],
   "source": [
    "#check out job satisfaction level\n",
    "df_filtered['JobSatLevel'].value_counts(dropna=False)"
   ]
  },
  {
   "cell_type": "code",
   "execution_count": 263,
   "metadata": {},
   "outputs": [
    {
     "data": {
      "text/plain": [
       "25-30     12864\n",
       "30-35      9530\n",
       "35-40      5761\n",
       "20-25      5519\n",
       "40-45      2832\n",
       "45-50      1437\n",
       "50-55       852\n",
       "55-60       431\n",
       "60-100        0\n",
       "0-20          0\n",
       "Name: Age_bin, dtype: int64"
      ]
     },
     "execution_count": 263,
     "metadata": {},
     "output_type": "execute_result"
    }
   ],
   "source": [
    "#check out age bin\n",
    "df_filtered['Age_bin'].value_counts(dropna=False)"
   ]
  },
  {
   "cell_type": "code",
   "execution_count": null,
   "metadata": {
    "collapsed": true
   },
   "outputs": [],
   "source": [
    "#it seems that the developer number reduce by half for every 5 year after 35 years old\n",
    "#we need to plot the trend"
   ]
  },
  {
   "cell_type": "code",
   "execution_count": null,
   "metadata": {
    "collapsed": true
   },
   "outputs": [],
   "source": [
    "#We have processed the compensation data before, therefore, not look into hereby."
   ]
  },
  {
   "cell_type": "code",
   "execution_count": 278,
   "metadata": {
    "collapsed": true
   },
   "outputs": [],
   "source": [
    "#summarize the data for US developers\n",
    "summary_us = df_filtered[df_filtered['Country'] == 'United States'].groupby(['Age_bin']).mean()[['ConvertedComp', 'WorkWeekHrs','JobSatLevel']]\n",
    "summary_us = summary_us.round({'ConvertedComp': 0, 'WorkWeekHrs': 1, 'JobSatLevel': 2})"
   ]
  },
  {
   "cell_type": "code",
   "execution_count": 299,
   "metadata": {},
   "outputs": [],
   "source": [
    "#get counts for each age bin\n",
    "temp = df_filtered[df_filtered['Country'] == 'United States'].groupby(['Age_bin'])['ConvertedComp'].count().rename('counts')"
   ]
  },
  {
   "cell_type": "code",
   "execution_count": 304,
   "metadata": {},
   "outputs": [],
   "source": [
    "summary_us = pd.merge(summary_us, temp, left_index=True, right_index=True)"
   ]
  },
  {
   "cell_type": "code",
   "execution_count": 306,
   "metadata": {
    "collapsed": true
   },
   "outputs": [],
   "source": [
    "summary_us.reset_index(inplace=True)\n",
    "#again, focus on age between 20 and 60\n",
    "summary_us = summary_us[~((summary_us['Age_bin']=='0-20') | (summary_us['Age_bin']=='60-100'))]"
   ]
  },
  {
   "cell_type": "code",
   "execution_count": 322,
   "metadata": {},
   "outputs": [
    {
     "data": {
      "text/html": [
       "<div>\n",
       "<style scoped>\n",
       "    .dataframe tbody tr th:only-of-type {\n",
       "        vertical-align: middle;\n",
       "    }\n",
       "\n",
       "    .dataframe tbody tr th {\n",
       "        vertical-align: top;\n",
       "    }\n",
       "\n",
       "    .dataframe thead th {\n",
       "        text-align: right;\n",
       "    }\n",
       "</style>\n",
       "<table border=\"1\" class=\"dataframe\">\n",
       "  <thead>\n",
       "    <tr style=\"text-align: right;\">\n",
       "      <th></th>\n",
       "      <th>Age_bin</th>\n",
       "      <th>ConvertedComp</th>\n",
       "      <th>WorkWeekHrs</th>\n",
       "      <th>JobSatLevel</th>\n",
       "      <th>counts</th>\n",
       "    </tr>\n",
       "  </thead>\n",
       "  <tbody>\n",
       "    <tr>\n",
       "      <th>1</th>\n",
       "      <td>20-25</td>\n",
       "      <td>84336.0</td>\n",
       "      <td>40.7</td>\n",
       "      <td>0.97</td>\n",
       "      <td>1450</td>\n",
       "    </tr>\n",
       "    <tr>\n",
       "      <th>2</th>\n",
       "      <td>25-30</td>\n",
       "      <td>105242.0</td>\n",
       "      <td>41.5</td>\n",
       "      <td>0.93</td>\n",
       "      <td>3089</td>\n",
       "    </tr>\n",
       "    <tr>\n",
       "      <th>3</th>\n",
       "      <td>30-35</td>\n",
       "      <td>122272.0</td>\n",
       "      <td>41.8</td>\n",
       "      <td>0.91</td>\n",
       "      <td>2600</td>\n",
       "    </tr>\n",
       "    <tr>\n",
       "      <th>4</th>\n",
       "      <td>35-40</td>\n",
       "      <td>131883.0</td>\n",
       "      <td>41.9</td>\n",
       "      <td>0.91</td>\n",
       "      <td>1764</td>\n",
       "    </tr>\n",
       "    <tr>\n",
       "      <th>5</th>\n",
       "      <td>40-45</td>\n",
       "      <td>137684.0</td>\n",
       "      <td>42.4</td>\n",
       "      <td>0.86</td>\n",
       "      <td>969</td>\n",
       "    </tr>\n",
       "    <tr>\n",
       "      <th>6</th>\n",
       "      <td>45-50</td>\n",
       "      <td>140796.0</td>\n",
       "      <td>43.1</td>\n",
       "      <td>0.79</td>\n",
       "      <td>549</td>\n",
       "    </tr>\n",
       "    <tr>\n",
       "      <th>7</th>\n",
       "      <td>50-55</td>\n",
       "      <td>141255.0</td>\n",
       "      <td>43.5</td>\n",
       "      <td>0.80</td>\n",
       "      <td>392</td>\n",
       "    </tr>\n",
       "    <tr>\n",
       "      <th>8</th>\n",
       "      <td>55-60</td>\n",
       "      <td>142528.0</td>\n",
       "      <td>43.5</td>\n",
       "      <td>1.00</td>\n",
       "      <td>230</td>\n",
       "    </tr>\n",
       "  </tbody>\n",
       "</table>\n",
       "</div>"
      ],
      "text/plain": [
       "  Age_bin  ConvertedComp  WorkWeekHrs  JobSatLevel  counts\n",
       "1   20-25        84336.0         40.7         0.97    1450\n",
       "2   25-30       105242.0         41.5         0.93    3089\n",
       "3   30-35       122272.0         41.8         0.91    2600\n",
       "4   35-40       131883.0         41.9         0.91    1764\n",
       "5   40-45       137684.0         42.4         0.86     969\n",
       "6   45-50       140796.0         43.1         0.79     549\n",
       "7   50-55       141255.0         43.5         0.80     392\n",
       "8   55-60       142528.0         43.5         1.00     230"
      ]
     },
     "execution_count": 322,
     "metadata": {},
     "output_type": "execute_result"
    }
   ],
   "source": [
    "summary_us"
   ]
  },
  {
   "cell_type": "code",
   "execution_count": 330,
   "metadata": {},
   "outputs": [
    {
     "data": {
      "image/png": "[encoded data removed]",
      "text/plain": [
       "<matplotlib.figure.Figure at 0x1f61a3f26a0>"
      ]
     },
     "metadata": {},
     "output_type": "display_data"
    }
   ],
   "source": [
    "#create three subplots to present the data\n",
    "fig, (ax1, ax2, ax3, ax4) = plt.subplots(1, 4,figsize=(20, 5))\n",
    "# ax1.plot(x, y)\n",
    "# ax1.set_title('Compensation')\n",
    "# ax2.set_title('JobSatLevel')\n",
    "# ax3.set_title('WorkWeekHrs')\n",
    "# ax3.set_title('No of Developers')\n",
    "\n",
    "width = 0.5\n",
    "ax1.barh(summary_us['Age_bin'],summary_us['ConvertedComp'], width, color = ['r'])\n",
    "ax2.barh(summary_us['Age_bin'],summary_us['JobSatLevel'], width,  color = ['b'])\n",
    "ax3.barh(summary_us['Age_bin'],summary_us['WorkWeekHrs'], width,  color = ['g'])\n",
    "ax4.barh(summary_us['Age_bin'],summary_us['counts'], width,  color = ['black'])\n",
    "# fig(figsize =(30, 20))\n",
    "\n",
    "ax1.set_ylabel('Age')\n",
    "ax1.set_xlabel('Salary in USD')\n",
    "ax2.set_xlabel('Satisfaction Level')\n",
    "ax3.set_xlabel('Weekly Working Hours')\n",
    "ax4.set_xlabel('No of Developers')\n",
    "\n",
    "fig.savefig('./output/Age_Effect_USA.png', dpi=100)\n"
   ]
  },
  {
   "cell_type": "code",
   "execution_count": 318,
   "metadata": {
    "collapsed": true
   },
   "outputs": [],
   "source": [
    "summary = df_filtered.groupby(['Age_bin']).mean()[['ConvertedComp', 'WorkWeekHrs','JobSatLevel']]\n",
    "summary = summary.round({'ConvertedComp': 0, 'WorkWeekHrs': 1, 'JobSatLevel': 2})"
   ]
  },
  {
   "cell_type": "code",
   "execution_count": 326,
   "metadata": {
    "collapsed": true
   },
   "outputs": [],
   "source": [
    "#get counts for each age bin\n",
    "temp = df_filtered.groupby(['Age_bin'])['ConvertedComp'].count().rename('counts')\n",
    "\n",
    "#combine target column value with counts\n",
    "summary = pd.merge(summary, temp, left_index=True, right_index=True)\n",
    "\n",
    "summary.reset_index(inplace=True)\n",
    "#again, focus on age between 20 and 60\n",
    "summary = summary[~((summary['Age_bin']=='0-20') | (summary['Age_bin']=='60-100'))]"
   ]
  },
  {
   "cell_type": "code",
   "execution_count": 331,
   "metadata": {},
   "outputs": [
    {
     "data": {
      "image/png": "[encoded data removed]",
      "text/plain": [
       "<matplotlib.figure.Figure at 0x1f61ad532e8>"
      ]
     },
     "metadata": {},
     "output_type": "display_data"
    }
   ],
   "source": [
    "#create three subplots to present the data\n",
    "fig, (ax1, ax2, ax3, ax4) = plt.subplots(1, 4,figsize=(20, 5))\n",
    "# ax1.plot(x, y)\n",
    "# ax1.set_title('Compensation')\n",
    "# ax2.set_title('JobSatLevel')\n",
    "# ax3.set_title('WorkWeekHrs')\n",
    "\n",
    "width = 0.5\n",
    "ax1.barh(summary['Age_bin'],summary['ConvertedComp'], width, color = ['r'])\n",
    "ax2.barh(summary['Age_bin'],summary['JobSatLevel'], width,  color = ['b'])\n",
    "ax3.barh(summary['Age_bin'],summary['WorkWeekHrs'], width,  color = ['g'])\n",
    "ax4.barh(summary['Age_bin'],summary['counts'], width,  color = ['black'])\n",
    "\n",
    "ax1.set_ylabel('Age')\n",
    "ax1.set_xlabel('Salary in USD')\n",
    "ax2.set_xlabel('Satisfaction Level')\n",
    "ax3.set_xlabel('Weekly Working Hours')\n",
    "ax4.set_xlabel('No of Developers')\n",
    "\n",
    "fig.savefig('./output/Age_Effect_World.png', dpi=100)"
   ]
  },
  {
   "cell_type": "markdown",
   "metadata": {},
   "source": [
    "## Findings: \n",
    "\n",
    "Since the compensation varies a lot among different country, we look into US developer's statistics and world-wide developers's statistics seperately.\n",
    "\n",
    "The age range is also limited between 20 - 60 years.\n",
    "\n",
    "Similar trend was found for US developers and developers worldwide. \n",
    "\n",
    "The total number of developers reduces by half for every 5 year after 35 years old.\n",
    "\n",
    "For US developers, the salary increased rapidly in early part of career, but plateaued after 45 years old. \n",
    "\n",
    "For the developers worldwide, the salary in the early career is low, but have more steady increasing trend throughout the career.\n",
    "\n",
    "Job satifaction data is a mix and diffcult to draw conclusion.\n",
    "\n",
    "The working hours, to my suprise, increased steady over time.\n",
    "\n"
   ]
  },
  {
   "cell_type": "markdown",
   "metadata": {},
   "source": [
    "## Question 4: <a class=\"anchor\" id=\"Q4\"> </a>\n",
    "\n",
    "It is world with technology evolving on a daily basis, we need to constantly learn new skills, how does other developers recharge themselves in skills? \n",
    "\n",
    "How does each choice of learning turn out for them in terms of geting better paid? Put the question in another way, how do highly paid developers learn new skills?"
   ]
  },
  {
   "cell_type": "code",
   "execution_count": 333,
   "metadata": {
    "collapsed": true
   },
   "outputs": [
    {
     "data": {
      "text/plain": [
       "Taught yourself a new language, framework, or tool without taking a formal course                                                                                                                                                                                                                                                                   2446\n",
       "Taken an online course in programming or software development (e.g. a MOOC);Taught yourself a new language, framework, or tool without taking a formal course                                                                                                                                                                                       2433\n",
       "Taken an online course in programming or software development (e.g. a MOOC);Received on-the-job training in software development;Taught yourself a new language, framework, or tool without taking a formal course                                                                                                                                  1675\n",
       "Taught yourself a new language, framework, or tool without taking a formal course;Contributed to open source software                                                                                                                                                                                                                               1660\n",
       "Received on-the-job training in software development;Taught yourself a new language, framework, or tool without taking a formal course                                                                                                                                                                                                              1372\n",
       "                                                                                                                                                                                                                                                                                                                                                    ... \n",
       "Participated in a full-time developer training program or bootcamp;Taken a part-time in-person course in programming or software development;Completed an industry certification program (e.g. MCPD);Received on-the-job training in software development                                                                                              1\n",
       "Participated in a full-time developer training program or bootcamp;Completed an industry certification program (e.g. MCPD);Participated in online coding competitions (e.g. HackerRank, CodeChef, TopCoder);Contributed to open source software                                                                                                        1\n",
       "Taken an online course in programming or software development (e.g. a MOOC);Participated in a full-time developer training program or bootcamp;Taken a part-time in-person course in programming or software development;Completed an industry certification program (e.g. MCPD);Participated in a hackathon;Contributed to open source software       1\n",
       "Participated in a full-time developer training program or bootcamp;Completed an industry certification program (e.g. MCPD);Participated in online coding competitions (e.g. HackerRank, CodeChef, TopCoder)                                                                                                                                            1\n",
       "Participated in a full-time developer training program or bootcamp;Taken a part-time in-person course in programming or software development;Contributed to open source software                                                                                                                                                                       1\n",
       "Name: EduOther, Length: 450, dtype: int64"
      ]
     },
     "execution_count": 333,
     "metadata": {},
     "output_type": "execute_result"
    }
   ],
   "source": [
    "df_filtered['EduOther'].value_counts(dropna=False)"
   ]
  },
  {
   "cell_type": "code",
   "execution_count": null,
   "metadata": {
    "collapsed": true
   },
   "outputs": [],
   "source": [
    "#it looks that developers are learning new knowledge in multiple ways. \n",
    "#We will seperate out each method and find out their frequencies. "
   ]
  },
  {
   "cell_type": "code",
   "execution_count": 334,
   "metadata": {},
   "outputs": [
    {
     "name": "stderr",
     "output_type": "stream",
     "text": [
      "C:\\ProgramData\\Anaconda3\\lib\\site-packages\\ipykernel_launcher.py:2: SettingWithCopyWarning: \n",
      "A value is trying to be set on a copy of a slice from a DataFrame.\n",
      "Try using .loc[row_indexer,col_indexer] = value instead\n",
      "\n",
      "See the caveats in the documentation: http://pandas.pydata.org/pandas-docs/stable/user_guide/indexing.html#returning-a-view-versus-a-copy\n",
      "  \n"
     ]
    }
   ],
   "source": [
    "learn_comp_summary = df_filtered[['EduOther','ConvertedComp']]\n",
    "learn_comp_summary['EduOther'] = df_filtered['EduOther'].str.split(';')\n",
    "\n",
    "# conver string value into list for target column \n",
    "learn_comp_summary = learn_comp_summary.explode(column = 'EduOther')"
   ]
  },
  {
   "cell_type": "code",
   "execution_count": 335,
   "metadata": {
    "collapsed": true
   },
   "outputs": [],
   "source": [
    "data_plot_bar = learn_comp_summary.groupby(['EduOther'])['ConvertedComp'].agg(['mean','count'])\n",
    "data_plot_bar.round({'mean': 0}).sort_values(['mean'], ascending = True, inplace = True)\n",
    "data_plot_bar.reset_index(inplace=True)\n",
    "\n",
    "data_plot_bar.columns = ['EduOther', 'Mean_Compensation', 'Counts']"
   ]
  },
  {
   "cell_type": "code",
   "execution_count": 336,
   "metadata": {},
   "outputs": [
    {
     "data": {
      "image/png": "[encoded data removed]",
      "text/plain": [
       "<matplotlib.figure.Figure at 0x1f61ac6e3c8>"
      ]
     },
     "metadata": {},
     "output_type": "display_data"
    }
   ],
   "source": [
    "#create three subplots to present the data\n",
    "fig, (ax1, ax2) = plt.subplots(1, 2,figsize=(20, 5), sharey=True)\n",
    "# ax1.plot(x, y)\n",
    "ax1.set_title('Mean salary of developers choosing each learning method.')\n",
    "ax2.set_title('Popular skill learning methods')\n",
    "\n",
    "width = 0.5\n",
    "ax1.barh(data_plot_bar['EduOther'], data_plot_bar['Mean_Compensation'], width, color = ['r'])\n",
    "ax2.barh(data_plot_bar['EduOther'], data_plot_bar['Counts'], width,  color = ['b'])\n",
    "\n",
    "\n",
    "ax1.set_ylabel('Learning Method')\n",
    "ax1.set_xlabel('Compensation (USD)')\n",
    "ax2.set_xlabel('Total Counts')\n",
    "\n",
    "fig.savefig('./output/Learning_method.png', dpi=100)"
   ]
  },
  {
   "cell_type": "markdown",
   "metadata": {},
   "source": [
    "## Findings:\n",
    "\n",
    "It looks like developers like the concept of 'DIY'. They either directly hack at it or watch online video/courses to learn new skills.\n",
    "\n",
    "However, in terms of most rewarding methods, the 'DIY' methods seem not to be doing so well. It pays offer to participate competition, contribute to open source code, or get certificate.\n",
    "\n",
    "I think it might be a chicken-egg issue. \n",
    "It is the developers have better resource or highly skilled already, would choose the more diffcult route which better rewarding. \n",
    "\n",
    "For new developers, who came in large numbers and typically have lower salary, the DIY, training camp etc, seems to a popular and valid choice toward professional developer career. \n"
   ]
  },
  {
   "cell_type": "markdown",
   "metadata": {},
   "source": [
    "## Question 5: <a class=\"anchor\" id=\"Q5\"> </a>\n",
    "\n",
    "What is a single trick that could boost your salary for future job seach effort?"
   ]
  },
  {
   "cell_type": "code",
   "execution_count": 128,
   "metadata": {},
   "outputs": [
    {
     "data": {
      "text/plain": [
       "No     45510\n",
       "Yes     8085\n",
       "NaN      510\n",
       "Name: FizzBuzz, dtype: int64"
      ]
     },
     "execution_count": 128,
     "metadata": {},
     "output_type": "execute_result"
    }
   ],
   "source": [
    "df_filtered['FizzBuzz'].value_counts(dropna=False)"
   ]
  },
  {
   "cell_type": "code",
   "execution_count": 104,
   "metadata": {},
   "outputs": [
    {
     "data": {
      "text/html": [
       "<div>\n",
       "<style scoped>\n",
       "    .dataframe tbody tr th:only-of-type {\n",
       "        vertical-align: middle;\n",
       "    }\n",
       "\n",
       "    .dataframe tbody tr th {\n",
       "        vertical-align: top;\n",
       "    }\n",
       "\n",
       "    .dataframe thead th {\n",
       "        text-align: right;\n",
       "    }\n",
       "</style>\n",
       "<table border=\"1\" class=\"dataframe\">\n",
       "  <thead>\n",
       "    <tr style=\"text-align: right;\">\n",
       "      <th>FizzBuzz</th>\n",
       "      <th>EdLevel</th>\n",
       "      <th>No</th>\n",
       "      <th>Yes</th>\n",
       "      <th>inc_ratio</th>\n",
       "    </tr>\n",
       "  </thead>\n",
       "  <tbody>\n",
       "    <tr>\n",
       "      <th>0</th>\n",
       "      <td>Associate degree</td>\n",
       "      <td>132433.391745</td>\n",
       "      <td>191246.395652</td>\n",
       "      <td>0.444095</td>\n",
       "    </tr>\n",
       "    <tr>\n",
       "      <th>1</th>\n",
       "      <td>Bachelor’s degree (BA, BS, B.Eng., etc.)</td>\n",
       "      <td>127180.844929</td>\n",
       "      <td>168271.964645</td>\n",
       "      <td>0.323092</td>\n",
       "    </tr>\n",
       "    <tr>\n",
       "      <th>2</th>\n",
       "      <td>Master’s degree (MA, MS, M.Eng., MBA, etc.)</td>\n",
       "      <td>115812.996575</td>\n",
       "      <td>142408.182535</td>\n",
       "      <td>0.229639</td>\n",
       "    </tr>\n",
       "    <tr>\n",
       "      <th>3</th>\n",
       "      <td>Other doctoral degree (Ph.D, Ed.D., etc.)</td>\n",
       "      <td>168884.148232</td>\n",
       "      <td>254277.221239</td>\n",
       "      <td>0.505631</td>\n",
       "    </tr>\n",
       "    <tr>\n",
       "      <th>4</th>\n",
       "      <td>Professional degree (JD, MD, etc.)</td>\n",
       "      <td>74458.706294</td>\n",
       "      <td>114781.912281</td>\n",
       "      <td>0.541551</td>\n",
       "    </tr>\n",
       "    <tr>\n",
       "      <th>5</th>\n",
       "      <td>Some college/university study without earning ...</td>\n",
       "      <td>110081.531958</td>\n",
       "      <td>149953.766265</td>\n",
       "      <td>0.362206</td>\n",
       "    </tr>\n",
       "  </tbody>\n",
       "</table>\n",
       "</div>"
      ],
      "text/plain": [
       "FizzBuzz                                            EdLevel             No  \\\n",
       "0                                          Associate degree  132433.391745   \n",
       "1                  Bachelor’s degree (BA, BS, B.Eng., etc.)  127180.844929   \n",
       "2               Master’s degree (MA, MS, M.Eng., MBA, etc.)  115812.996575   \n",
       "3                 Other doctoral degree (Ph.D, Ed.D., etc.)  168884.148232   \n",
       "4                        Professional degree (JD, MD, etc.)   74458.706294   \n",
       "5         Some college/university study without earning ...  110081.531958   \n",
       "\n",
       "FizzBuzz            Yes  inc_ratio  \n",
       "0         191246.395652   0.444095  \n",
       "1         168271.964645   0.323092  \n",
       "2         142408.182535   0.229639  \n",
       "3         254277.221239   0.505631  \n",
       "4         114781.912281   0.541551  \n",
       "5         149953.766265   0.362206  "
      ]
     },
     "execution_count": 104,
     "metadata": {},
     "output_type": "execute_result"
    }
   ],
   "source": [
    "#It looks that only a fraction of developers knows FizzBuzz.\n",
    "#Does fizzbuzz solving experience indicate higher salary (elite developer?)\n",
    "\n",
    "summary = df_filtered.groupby(['EdLevel','FizzBuzz']).mean(numeric_only = True)\n",
    "summary.drop(columns= ['Respondent','CodeRevHrs','CompTotal'] , inplace = True)\n",
    "\n",
    "summary.reset_index(inplace=True) \n",
    "summary = summary.pivot(index='EdLevel', columns='FizzBuzz', values='ConvertedComp')\n",
    "# summary\n",
    "summary.reset_index(inplace=True) \n",
    "\n",
    "summary['inc_ratio']= summary['Yes']/summary['No'] -1\n",
    "\n",
    "summary"
   ]
  },
  {
   "cell_type": "code",
   "execution_count": 105,
   "metadata": {},
   "outputs": [
    {
     "data": {
      "text/plain": [
       "0.5415512569871743"
      ]
     },
     "execution_count": 105,
     "metadata": {},
     "output_type": "execute_result"
    }
   ],
   "source": [
    "summary['inc_ratio'].max()"
   ]
  },
  {
   "cell_type": "code",
   "execution_count": 106,
   "metadata": {},
   "outputs": [
    {
     "data": {
      "text/html": [
       "<div>\n",
       "<style scoped>\n",
       "    .dataframe tbody tr th:only-of-type {\n",
       "        vertical-align: middle;\n",
       "    }\n",
       "\n",
       "    .dataframe tbody tr th {\n",
       "        vertical-align: top;\n",
       "    }\n",
       "\n",
       "    .dataframe thead th {\n",
       "        text-align: right;\n",
       "    }\n",
       "</style>\n",
       "<table border=\"1\" class=\"dataframe\">\n",
       "  <thead>\n",
       "    <tr style=\"text-align: right;\">\n",
       "      <th>FizzBuzz</th>\n",
       "      <th>Age_bin</th>\n",
       "      <th>No</th>\n",
       "      <th>Yes</th>\n",
       "      <th>inc_ratio</th>\n",
       "    </tr>\n",
       "  </thead>\n",
       "  <tbody>\n",
       "    <tr>\n",
       "      <th>0</th>\n",
       "      <td>20-25</td>\n",
       "      <td>85775.852112</td>\n",
       "      <td>121241.734325</td>\n",
       "      <td>0.413472</td>\n",
       "    </tr>\n",
       "    <tr>\n",
       "      <th>1</th>\n",
       "      <td>25-30</td>\n",
       "      <td>102205.841481</td>\n",
       "      <td>146370.813409</td>\n",
       "      <td>0.432118</td>\n",
       "    </tr>\n",
       "    <tr>\n",
       "      <th>2</th>\n",
       "      <td>30-35</td>\n",
       "      <td>128670.730496</td>\n",
       "      <td>178042.251109</td>\n",
       "      <td>0.383704</td>\n",
       "    </tr>\n",
       "    <tr>\n",
       "      <th>3</th>\n",
       "      <td>35-40</td>\n",
       "      <td>150143.241360</td>\n",
       "      <td>173072.252226</td>\n",
       "      <td>0.152714</td>\n",
       "    </tr>\n",
       "    <tr>\n",
       "      <th>4</th>\n",
       "      <td>40-45</td>\n",
       "      <td>170195.286342</td>\n",
       "      <td>202529.738035</td>\n",
       "      <td>0.189984</td>\n",
       "    </tr>\n",
       "    <tr>\n",
       "      <th>5</th>\n",
       "      <td>45-50</td>\n",
       "      <td>173003.679056</td>\n",
       "      <td>213164.376344</td>\n",
       "      <td>0.232138</td>\n",
       "    </tr>\n",
       "    <tr>\n",
       "      <th>6</th>\n",
       "      <td>50-55</td>\n",
       "      <td>174697.658711</td>\n",
       "      <td>182810.519608</td>\n",
       "      <td>0.046439</td>\n",
       "    </tr>\n",
       "    <tr>\n",
       "      <th>7</th>\n",
       "      <td>55-60</td>\n",
       "      <td>204517.621076</td>\n",
       "      <td>358873.428571</td>\n",
       "      <td>0.754731</td>\n",
       "    </tr>\n",
       "  </tbody>\n",
       "</table>\n",
       "</div>"
      ],
      "text/plain": [
       "FizzBuzz Age_bin             No            Yes  inc_ratio\n",
       "0          20-25   85775.852112  121241.734325   0.413472\n",
       "1          25-30  102205.841481  146370.813409   0.432118\n",
       "2          30-35  128670.730496  178042.251109   0.383704\n",
       "3          35-40  150143.241360  173072.252226   0.152714\n",
       "4          40-45  170195.286342  202529.738035   0.189984\n",
       "5          45-50  173003.679056  213164.376344   0.232138\n",
       "6          50-55  174697.658711  182810.519608   0.046439\n",
       "7          55-60  204517.621076  358873.428571   0.754731"
      ]
     },
     "execution_count": 106,
     "metadata": {},
     "output_type": "execute_result"
    }
   ],
   "source": [
    "# does fizzbuzz solving experience indicate higher salary (elite developer?)\n",
    "\n",
    "summary_1 = df_filtered.groupby(['Age_bin','FizzBuzz']).mean(numeric_only = True)\n",
    "summary_1.drop(columns= ['Respondent','CodeRevHrs','CompTotal'] , inplace = True)\n",
    "\n",
    "summary_1.reset_index(inplace=True) \n",
    "summary_1 = summary_1[~((summary_1['Age_bin']=='0-20') | (summary_1['Age_bin']=='60-100'))]\n",
    "summary_1 = summary_1.pivot(index='Age_bin', columns='FizzBuzz', values='ConvertedComp')\n",
    "summary_1.reset_index(inplace=True) \n",
    "\n",
    "summary_1['inc_ratio']= summary_1['Yes']/summary_1['No'] -1\n",
    "\n",
    "summary_1"
   ]
  },
  {
   "cell_type": "code",
   "execution_count": 126,
   "metadata": {},
   "outputs": [
    {
     "data": {
      "text/plain": [
       "0.7547310920346557"
      ]
     },
     "execution_count": 126,
     "metadata": {},
     "output_type": "execute_result"
    }
   ],
   "source": [
    "summary_1['inc_ratio'].max()\n",
    "#wow"
   ]
  },
  {
   "cell_type": "code",
   "execution_count": 115,
   "metadata": {},
   "outputs": [
    {
     "data": {
      "image/png": "[encoded data removed]",
      "text/plain": [
       "<matplotlib.figure.Figure at 0x1f6180d8780>"
      ]
     },
     "metadata": {},
     "output_type": "display_data"
    }
   ],
   "source": [
    "fig, (ax1, ax2) = plt.subplots(1, 2, figsize=(20, 5))\n",
    "width = 0.4\n",
    "\n",
    "ind_1 = np.arange(len(summary))\n",
    "ax1.barh(ind_1 + width, summary['Yes'], width, color='blue', label='Yes')\n",
    "ax1.barh(ind_1 , summary['No'], width, color='red', label='No')\n",
    "ax1.set(yticks=ind_1 + width, yticklabels=summary['EdLevel'], ylim=[2*width - 1, len(summary)])\n",
    "ax1.legend()\n",
    "ax1.set_ylabel('Education Level')\n",
    "\n",
    "ind_2 = np.arange(len(summary_1))\n",
    "ax2.barh(ind_2+ width , summary_1['Yes'], width, color='blue', label='Yes')\n",
    "ax2.barh(ind_2, summary_1['No'], width, color='red', label='No')\n",
    "ax2.set(yticks=ind_2 + width, yticklabels=summary_1['Age_bin'], ylim=[2*width - 1, len(summary_1)])\n",
    "ax2.legend()\n",
    "ax2.set_ylabel('Age Group')\n",
    "\n",
    "fig.savefig('./output/FizzBuzz_Compensation.png', dpi=100)"
   ]
  },
  {
   "cell_type": "markdown",
   "metadata": {},
   "source": [
    "## Findings:\n",
    "FizzBuzz! \n",
    "\n",
    "Wow! Look at the difference! \n",
    "Hard to believe, wondering if it is true...\n",
    "\n",
    "If it is true, it is never too late to say hello to FizzBuzz!\n"
   ]
  },
  {
   "cell_type": "markdown",
   "metadata": {},
   "source": [
    "## Question 6: <a class=\"anchor\" id=\"Q6\"> </a>\n",
    "\n",
    "If you just started coding and need to use IDE for development, what is a potential good option?\n",
    "There are many choices for IDE, we would want to focus on our effort on coding instead of learning IDE. Therefore, select an IDE that would last for the long haul is very helpful."
   ]
  },
  {
   "cell_type": "code",
   "execution_count": 125,
   "metadata": {},
   "outputs": [
    {
     "data": {
      "text/plain": [
       "Visual Studio Code                                     3054\n",
       "Visual Studio;Visual Studio Code                       2605\n",
       "Notepad++;Visual Studio;Visual Studio Code             2404\n",
       "Vim                                                    1436\n",
       "Notepad++;Visual Studio                                1313\n",
       "                                                       ... \n",
       "Atom;Komodo;Visual Studio Code                            1\n",
       "Eclipse;IntelliJ;Notepad++;RubyMine                       1\n",
       "IntelliJ;IPython / Jupyter;Visual Studio Code;Xcode       1\n",
       "Eclipse;Notepad++;PHPStorm;Visual Studio Code             1\n",
       "Sublime Text;Vim;Visual Studio;Xcode                      1\n",
       "Name: DevEnviron, Length: 5196, dtype: int64"
      ]
     },
     "execution_count": 125,
     "metadata": {},
     "output_type": "execute_result"
    }
   ],
   "source": [
    "df_filtered['DevEnviron'].value_counts(dropna=False)"
   ]
  },
  {
   "cell_type": "code",
   "execution_count": 252,
   "metadata": {},
   "outputs": [
    {
     "name": "stdout",
     "output_type": "stream",
     "text": [
      "Question: Which development environment(s) do you use regularly?  Please check all that apply.\n"
     ]
    },
    {
     "data": {
      "text/html": [
       "<div>\n",
       "<style scoped>\n",
       "    .dataframe tbody tr th:only-of-type {\n",
       "        vertical-align: middle;\n",
       "    }\n",
       "\n",
       "    .dataframe tbody tr th {\n",
       "        vertical-align: top;\n",
       "    }\n",
       "\n",
       "    .dataframe thead th {\n",
       "        text-align: right;\n",
       "    }\n",
       "</style>\n",
       "<table border=\"1\" class=\"dataframe\">\n",
       "  <thead>\n",
       "    <tr style=\"text-align: right;\">\n",
       "      <th></th>\n",
       "      <th>answer</th>\n",
       "      <th>counts</th>\n",
       "    </tr>\n",
       "  </thead>\n",
       "  <tbody>\n",
       "    <tr>\n",
       "      <th>21</th>\n",
       "      <td>Visual Studio Code</td>\n",
       "      <td>44311</td>\n",
       "    </tr>\n",
       "    <tr>\n",
       "      <th>20</th>\n",
       "      <td>Visual Studio</td>\n",
       "      <td>27490</td>\n",
       "    </tr>\n",
       "    <tr>\n",
       "      <th>19</th>\n",
       "      <td>Notepad++</td>\n",
       "      <td>26621</td>\n",
       "    </tr>\n",
       "    <tr>\n",
       "      <th>18</th>\n",
       "      <td>IntelliJ</td>\n",
       "      <td>22166</td>\n",
       "    </tr>\n",
       "    <tr>\n",
       "      <th>17</th>\n",
       "      <td>Vim</td>\n",
       "      <td>22163</td>\n",
       "    </tr>\n",
       "    <tr>\n",
       "      <th>16</th>\n",
       "      <td>Sublime Text</td>\n",
       "      <td>20424</td>\n",
       "    </tr>\n",
       "    <tr>\n",
       "      <th>15</th>\n",
       "      <td>Android Studio</td>\n",
       "      <td>14787</td>\n",
       "    </tr>\n",
       "    <tr>\n",
       "      <th>14</th>\n",
       "      <td>Eclipse</td>\n",
       "      <td>12591</td>\n",
       "    </tr>\n",
       "    <tr>\n",
       "      <th>13</th>\n",
       "      <td>PyCharm</td>\n",
       "      <td>11724</td>\n",
       "    </tr>\n",
       "    <tr>\n",
       "      <th>12</th>\n",
       "      <td>Atom</td>\n",
       "      <td>11636</td>\n",
       "    </tr>\n",
       "  </tbody>\n",
       "</table>\n",
       "</div>"
      ],
      "text/plain": [
       "                answer counts\n",
       "21  Visual Studio Code  44311\n",
       "20       Visual Studio  27490\n",
       "19           Notepad++  26621\n",
       "18            IntelliJ  22166\n",
       "17                 Vim  22163\n",
       "16        Sublime Text  20424\n",
       "15      Android Studio  14787\n",
       "14             Eclipse  12591\n",
       "13             PyCharm  11724\n",
       "12                Atom  11636"
      ]
     },
     "execution_count": 252,
     "metadata": {},
     "output_type": "execute_result"
    }
   ],
   "source": [
    "#it looks that developers are using multiple IDEs for their work. \n",
    "#We will seperate out each IDE and find out their frequencies. \n",
    "targetcolumn, delimiter = 'DevEnviron', ';'\n",
    "\n",
    "title = list(df_schema[df_schema['Column']==targetcolumn]['QuestionText'])[0]\n",
    "temp= multipleSelection_stats(df,targetcolumn, title, delimiter)\n",
    "print('Question:', title)\n",
    "temp.head(10)"
   ]
  },
  {
   "cell_type": "markdown",
   "metadata": {},
   "source": [
    "## Findings:\n",
    "Looks like Microsoft is the winner, with Visual Studio being the most popular IDE. \n"
   ]
  },
  {
   "cell_type": "markdown",
   "metadata": {},
   "source": [
    "## Question 7: <a class=\"anchor\" id=\"Q7\"> </a>\n",
    "\n",
    "I need to buy a computer for programming purpose, which operating system is good fit for me?\n",
    "\n",
    "Often times, I wonder do I need to have macbook to do programming, given a lot of examples in the learning videos demostrate the example using macOS. \n",
    "When start to learn a language, the last thing you want to do is get bugged down to tuning up the development environment. And there is a myst about which os system is better than the other. Is it ture?"
   ]
  },
  {
   "cell_type": "code",
   "execution_count": 124,
   "metadata": {},
   "outputs": [
    {
     "data": {
      "text/plain": [
       "Windows        24018\n",
       "MacOS          16367\n",
       "Linux-based    13438\n",
       "NaN              244\n",
       "BSD               38\n",
       "Name: OpSys, dtype: int64"
      ]
     },
     "execution_count": 124,
     "metadata": {},
     "output_type": "execute_result"
    }
   ],
   "source": [
    "df_filtered['OpSys'].value_counts(dropna=False)"
   ]
  },
  {
   "cell_type": "code",
   "execution_count": 107,
   "metadata": {},
   "outputs": [
    {
     "data": {
      "text/plain": [
       "array(['Linux-based', 'Windows', 'MacOS', nan, 'BSD'], dtype=object)"
      ]
     },
     "execution_count": 107,
     "metadata": {},
     "output_type": "execute_result"
    }
   ],
   "source": [
    "#focus on two columns and remove any entry with nan values\n",
    "#It is ok to remove since the number of nan values are small compare to the rest. \n",
    "\n",
    "lang_os_summary = df_filtered[['LanguageWorkedWith','OpSys']].dropna(how = 'any')\n",
    "lang_os_summary['LanguageWorkedWith'] = df_filtered['LanguageWorkedWith'].str.split(';')\n",
    "\n",
    "# conver string value into list for target column \n",
    "lang_os_summary = lang_os_summary.explode(column = 'LanguageWorkedWith')\n",
    "\n",
    "#I do not why directly assign to 'counts' caused error. \n",
    "lang_os_summary['counts'] = lang_os_summary['LanguageWorkedWith']\n",
    "\n",
    "lang_os_summary['counts'] = lang_os_summary.groupby(['LanguageWorkedWith','OpSys']).transform('count')\n",
    "\n",
    "lang_os_summary.drop_duplicates(inplace = True)\n"
   ]
  },
  {
   "cell_type": "code",
   "execution_count": 117,
   "metadata": {},
   "outputs": [
    {
     "data": {
      "image/png": "[encoded data removed]",
      "text/plain": [
       "<matplotlib.figure.Figure at 0x1a402665240>"
      ]
     },
     "metadata": {},
     "output_type": "display_data"
    }
   ],
   "source": [
    "#create heatmap about programming language and operation system\n",
    "\n",
    "df_heatmap = lang_os_summary.pivot(columns='LanguageWorkedWith', index='OpSys', values='counts')\n",
    "\n",
    "df_heatmap.fillna(0, inplace = True)\n",
    "\n",
    "hm_arr = df_heatmap.to_numpy()\n",
    "\n",
    "y_tag = df_heatmap.columns\n",
    "\n",
    "x_tag = df_heatmap.index\n",
    "\n",
    "fig = heatmap_plot(hm_arr, y_tag, x_tag, \n",
    "                   xlabel = 'Current Developing Language', \n",
    "                   ylabel = 'Operation system', \n",
    "                   title = 'Programming language- operating system heatmap')\n",
    "\n",
    "fig.savefig('./output/language_os.png', dpi=100)\n",
    "\n",
    "plt.show()"
   ]
  },
  {
   "cell_type": "markdown",
   "metadata": {},
   "source": [
    "## Findings:\n",
    "The finding is presented as heatmap.\n",
    "If you are not sure about future needs, choose windows.\n",
    "If you need versatility, choose windows. "
   ]
  },
  {
   "cell_type": "markdown",
   "metadata": {},
   "source": [
    "## Question 8: <a class=\"anchor\" id=\"Q8\"> </a>\n",
    "\n",
    "Related to working environment and relationship.\n",
    "\n",
    "For people think their managers are incompetent (to certain level), are they considering themselve above average or not, how about they mean salary?"
   ]
  },
  {
   "cell_type": "code",
   "execution_count": 145,
   "metadata": {},
   "outputs": [
    {
     "data": {
      "text/html": [
       "<div>\n",
       "<style scoped>\n",
       "    .dataframe tbody tr th:only-of-type {\n",
       "        vertical-align: middle;\n",
       "    }\n",
       "\n",
       "    .dataframe tbody tr th {\n",
       "        vertical-align: top;\n",
       "    }\n",
       "\n",
       "    .dataframe thead th {\n",
       "        text-align: right;\n",
       "    }\n",
       "</style>\n",
       "<table border=\"1\" class=\"dataframe\">\n",
       "  <thead>\n",
       "    <tr style=\"text-align: right;\">\n",
       "      <th></th>\n",
       "      <th>Respondent</th>\n",
       "      <th>Age1stCode</th>\n",
       "      <th>YearsCodePro</th>\n",
       "      <th>CompTotal</th>\n",
       "      <th>ConvertedComp</th>\n",
       "      <th>WorkWeekHrs</th>\n",
       "      <th>CodeRevHrs</th>\n",
       "      <th>Age</th>\n",
       "    </tr>\n",
       "    <tr>\n",
       "      <th>MgrIdiot</th>\n",
       "      <th></th>\n",
       "      <th></th>\n",
       "      <th></th>\n",
       "      <th></th>\n",
       "      <th></th>\n",
       "      <th></th>\n",
       "      <th></th>\n",
       "      <th></th>\n",
       "    </tr>\n",
       "  </thead>\n",
       "  <tbody>\n",
       "    <tr>\n",
       "      <th>I don't have a manager</th>\n",
       "      <td>43851.387667</td>\n",
       "      <td>15.450765</td>\n",
       "      <td>8.378352</td>\n",
       "      <td>4.588716e+05</td>\n",
       "      <td>107880.499647</td>\n",
       "      <td>41.978605</td>\n",
       "      <td>5.641382</td>\n",
       "      <td>31.987278</td>\n",
       "    </tr>\n",
       "    <tr>\n",
       "      <th>Not at all confident</th>\n",
       "      <td>44233.038567</td>\n",
       "      <td>15.601212</td>\n",
       "      <td>7.900128</td>\n",
       "      <td>2.760123e+07</td>\n",
       "      <td>110343.203982</td>\n",
       "      <td>42.626282</td>\n",
       "      <td>4.983151</td>\n",
       "      <td>31.594496</td>\n",
       "    </tr>\n",
       "    <tr>\n",
       "      <th>Somewhat confident</th>\n",
       "      <td>44288.460666</td>\n",
       "      <td>15.511281</td>\n",
       "      <td>7.438869</td>\n",
       "      <td>6.818745e+06</td>\n",
       "      <td>120217.865526</td>\n",
       "      <td>42.010526</td>\n",
       "      <td>4.909944</td>\n",
       "      <td>30.854229</td>\n",
       "    </tr>\n",
       "    <tr>\n",
       "      <th>Very confident</th>\n",
       "      <td>44866.443888</td>\n",
       "      <td>15.487585</td>\n",
       "      <td>7.359698</td>\n",
       "      <td>4.569934e+10</td>\n",
       "      <td>137930.204426</td>\n",
       "      <td>41.824498</td>\n",
       "      <td>4.861100</td>\n",
       "      <td>30.545674</td>\n",
       "    </tr>\n",
       "  </tbody>\n",
       "</table>\n",
       "</div>"
      ],
      "text/plain": [
       "                          Respondent  Age1stCode  YearsCodePro     CompTotal  \\\n",
       "MgrIdiot                                                                       \n",
       "I don't have a manager  43851.387667   15.450765      8.378352  4.588716e+05   \n",
       "Not at all confident    44233.038567   15.601212      7.900128  2.760123e+07   \n",
       "Somewhat confident      44288.460666   15.511281      7.438869  6.818745e+06   \n",
       "Very confident          44866.443888   15.487585      7.359698  4.569934e+10   \n",
       "\n",
       "                        ConvertedComp  WorkWeekHrs  CodeRevHrs        Age  \n",
       "MgrIdiot                                                                   \n",
       "I don't have a manager  107880.499647    41.978605    5.641382  31.987278  \n",
       "Not at all confident    110343.203982    42.626282    4.983151  31.594496  \n",
       "Somewhat confident      120217.865526    42.010526    4.909944  30.854229  \n",
       "Very confident          137930.204426    41.824498    4.861100  30.545674  "
      ]
     },
     "execution_count": 145,
     "metadata": {},
     "output_type": "execute_result"
    }
   ],
   "source": [
    "temp = df_filtered.groupby(['MgrIdiot']).mean(numeric_only = True)\n",
    "temp"
   ]
  },
  {
   "cell_type": "markdown",
   "metadata": {},
   "source": [
    "## Findings:\n",
    "\n",
    "Put the findings short and sweet:\n",
    "The developers who think highly of their managers, tend to earn more and work less hours."
   ]
  },
  {
   "cell_type": "markdown",
   "metadata": {},
   "source": [
    "## Question 9: <a class=\"anchor\" id=\"Q9\"> </a>\n",
    "\n",
    "What is the effect of gender on developer's career, in terms of salary, working hours and job satifactions?"
   ]
  },
  {
   "cell_type": "code",
   "execution_count": 121,
   "metadata": {},
   "outputs": [
    {
     "data": {
      "text/plain": [
       "array(['Man', 'Woman', nan,\n",
       "       'Non-binary, genderqueer, or gender non-conforming',\n",
       "       'Woman;Non-binary, genderqueer, or gender non-conforming',\n",
       "       'Woman;Man',\n",
       "       'Man;Non-binary, genderqueer, or gender non-conforming',\n",
       "       'Woman;Man;Non-binary, genderqueer, or gender non-conforming'],\n",
       "      dtype=object)"
      ]
     },
     "execution_count": 121,
     "metadata": {},
     "output_type": "execute_result"
    }
   ],
   "source": [
    "df_filtered['Gender'].unique()"
   ]
  },
  {
   "cell_type": "code",
   "execution_count": 122,
   "metadata": {},
   "outputs": [
    {
     "data": {
      "text/plain": [
       "Man                                                            49262\n",
       "Woman                                                           3730\n",
       "NaN                                                              568\n",
       "Non-binary, genderqueer, or gender non-conforming                293\n",
       "Man;Non-binary, genderqueer, or gender non-conforming            106\n",
       "Woman;Non-binary, genderqueer, or gender non-conforming           94\n",
       "Woman;Man                                                         38\n",
       "Woman;Man;Non-binary, genderqueer, or gender non-conforming       14\n",
       "Name: Gender, dtype: int64"
      ]
     },
     "execution_count": 122,
     "metadata": {},
     "output_type": "execute_result"
    }
   ],
   "source": [
    "df_filtered['Gender'].value_counts(dropna=False)"
   ]
  },
  {
   "cell_type": "code",
   "execution_count": 124,
   "metadata": {
    "collapsed": true
   },
   "outputs": [],
   "source": [
    "#The answer for this question is really messly,\n",
    "#and the answers of 'man' and 'woman' are the majority of the data.\n",
    "#I think it is reasonable easy enough just to filter out the rest.\n",
    "#Again, I am only focusing on the working age range of 20-60 years old.\n",
    "\n",
    "# TargetGender = ['Man', 'Woman']\n",
    "summary = df_filtered[((df_filtered['Gender'] == 'Man') | (df_filtered['Gender'] == 'Woman'))]\\\n",
    "    .groupby(['Age_bin','Gender']).mean(numeric_only = True)[['ConvertedComp','WorkWeekHrs','JobSatLevel']]\n",
    "summary.reset_index(inplace=True) \n",
    "summary = summary[~((summary['Age_bin']=='0-20') | (summary['Age_bin']=='60-100'))]\n",
    "\n",
    "summary = summary.pivot(index='Age_bin', columns='Gender', values='ConvertedComp')\n",
    "# summary\n",
    "summary.reset_index(inplace=True) "
   ]
  },
  {
   "cell_type": "code",
   "execution_count": 131,
   "metadata": {},
   "outputs": [
    {
     "data": {
      "image/png": "[encoded data removed]",
      "text/plain": [
       "<matplotlib.figure.Figure at 0x1a406d08358>"
      ]
     },
     "metadata": {},
     "output_type": "display_data"
    }
   ],
   "source": [
    "#create plot for comparison\n",
    "\n",
    "fig, ax1 = plt.subplots(figsize=(10, 5))\n",
    "width = 0.4\n",
    "\n",
    "ind_1 = np.arange(len(summary))\n",
    "ax1.barh(ind_1 + width, summary['Woman'], width, color='green', label='Woman')\n",
    "ax1.barh(ind_1, summary['Man'], width, color='red', label='Man')\n",
    "ax1.set(yticks=ind_1 + width, yticklabels=summary['Age_bin'], ylim=[2*width - 1, len(summary)])\n",
    "ax1.legend()\n",
    "ax1.set_ylabel('Age Group')\n",
    "ax1.set_xlabel('Compensation')\n",
    "\n",
    "\n",
    "fig.savefig('./output/Gender_Compensation.png', dpi=100)"
   ]
  },
  {
   "cell_type": "markdown",
   "metadata": {},
   "source": [
    "## Findings:\n",
    "\n",
    "Women are generally happier about their career than men. Natually optismistic or less expection?\n",
    "\n",
    "It seems that women developers tend to work harder than the male counterpart in early caeer, despite earning less. \n",
    "Overtime, women tend to earn slightly more than men, with the same working hours. \n",
    "\n",
    "But after 35 years old, women generally work less and earn less. maybe because of raising kids? \n",
    "\n",
    "With working time considered, I did not find gender gap in developer's salary."
   ]
  },
  {
   "cell_type": "markdown",
   "metadata": {},
   "source": [
    "# Conclusion\n",
    "\n",
    "This project answered many of questions I had before. It might not be correctly answered based on the limited data and my analysis skill.\n",
    "\n",
    "Regardless, I really appreciate Stackoverflow for providing the survey data."
   ]
  },
  {
   "cell_type": "code",
   "execution_count": null,
   "metadata": {
    "collapsed": true
   },
   "outputs": [],
   "source": []
  }
 ],
 "metadata": {
  "kernelspec": {
   "display_name": "Python 3",
   "language": "python",
   "name": "python3"
  },
  "language_info": {
   "codemirror_mode": {
    "name": "ipython",
    "version": 3
   },
   "file_extension": ".py",
   "mimetype": "text/x-python",
   "name": "python",
   "nbconvert_exporter": "python",
   "pygments_lexer": "ipython3",
   "version": "3.6.3"
  }
 },
 "nbformat": 4,
 "nbformat_minor": 2
}
